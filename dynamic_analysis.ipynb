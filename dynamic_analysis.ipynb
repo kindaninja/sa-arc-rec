{
 "cells": [
  {
   "cell_type": "markdown",
   "metadata": {
    "nbpresent": {
     "id": "65576d12-7eb3-4a8b-80e6-752ed233f293"
    }
   },
   "source": [
    "# Dynamic Analysis\n",
    "\n",
    "> Dynamic analyses collect information about the system as it executes"
   ]
  },
  {
   "cell_type": "markdown",
   "metadata": {
    "nbpresent": {
     "id": "1863763d-ba53-44e3-b2d7-a3359c562cff"
    }
   },
   "source": [
    "Opposed to **static analysis**: \n",
    "\n",
    "> Static analyses analyze the system’s artifacts to obtain information that is valid for all possible executions (e.g, program structure or potential calls between different modules). \n",
    "(View-Driven Software Architecture Reconstruction...)\n",
    "\n",
    "\n",
    "```python\n",
    "\n",
    "class Person(object):\n",
    "   def have_fun():\n",
    "      pass\n",
    "   \n",
    "class Student(Person):\n",
    "   def have_fun():\n",
    "      print(\"student kind of fun\")\n",
    "   \n",
    "class SoftwareArchitect(Person):\n",
    "   def have_fun():\n",
    "      print(\"architect kind of fun\")\n",
    "      \n",
    "# later in my code\n",
    "\n",
    "def process(p:Person):\n",
    "   p.have_fun()\n",
    "\n",
    "```\n",
    "\n",
    "##### Static Analysis limitations\n",
    "- there is no way for me to know on which object is have_fun() called \n",
    "- there is no information about runtime properties (memory consumption, timing)\n"
   ]
  },
  {
   "cell_type": "markdown",
   "metadata": {
    "nbpresent": {
     "id": "89c73c54-6cee-4197-8f43-650099cef85c"
    }
   },
   "source": [
    "### Uses of Dynamic Analysis in Architecture Recovery\n",
    "In the Extraction phase: \n",
    "  - dependencies between components (e.g. `Model` -> `UI`)\n",
    "  - properties of components (e.g. `Model` is never used, `Connection` is slow, etc.)\n",
    "    - corroborate usage info with static analysis for, e.g. dead code detection"
   ]
  },
  {
   "cell_type": "markdown",
   "metadata": {
    "nbpresent": {
     "id": "3cbfbedb-64d3-4ffc-83d5-9c5acef1fa7b"
    }
   },
   "source": [
    "## Prerequisite: Running the System\n",
    "\n",
    "- not that trivial as you might think\n",
    "- challenges\n",
    "  - configuration\n",
    "  - dependencies\n",
    "  - unwritten rules\n",
    "  - some systems don't have a clear entry point (e.g. libraries)\n",
    "- helpful practices\n",
    "  - continuous integration\n",
    "  - containerization\n",
    "  - infrastructure as code\n",
    "  \n",
    "  "
   ]
  },
  {
   "cell_type": "markdown",
   "metadata": {
    "nbpresent": {
     "id": "acb0558e-02fe-4bae-a9cf-517ad479b992"
    }
   },
   "source": [
    "## How to Get the Program Running? \n",
    "\n",
    "- install required 3rd party librarie\n",
    "- deploy using containers\n",
    "- ..."
   ]
  },
  {
   "cell_type": "markdown",
   "metadata": {
    "nbpresent": {
     "id": "4ddb0827-e782-451c-addb-87a9a1f4dc27"
    }
   },
   "source": [
    "## Which Scenarios to Run from the System?\n",
    "\n",
    "- Run the unit tests if they exist \n",
    "- Exercise \"features\" \n",
    "\n",
    "> A feature is a realized functional requirement of a system. [...] an observable unit of behavior of a system triggered by the user [Eisenbarth et al., 2003].\n",
    "\n",
    "[Eisenbarth et al., 2003]. Thomas Eisenbarth, Rainer Koschke, and Daniel Simon. Locating features in source code. IEEE Computer, 29(3):210–224, March 2003."
   ]
  },
  {
   "cell_type": "markdown",
   "metadata": {
    "nbpresent": {
     "id": "efe4e10a-1346-4702-8791-502aa11c1435"
    }
   },
   "source": [
    "## Approaches\n",
    "\n",
    "- logging\n",
    "- instrumentation\n",
    "- traffic analysis\n"
   ]
  },
  {
   "cell_type": "markdown",
   "metadata": {
    "nbpresent": {
     "id": "90d3e9dd-a7a8-42ee-84db-82dcfc60587a"
    }
   },
   "source": [
    "## Approach #1: Logging\n",
    "\n",
    "- invasive - adding logging statements in the program\n",
    "  - implies changing the program\n",
    "- allows surgical precision - adding log statements only where relevant\n"
   ]
  },
  {
   "cell_type": "markdown",
   "metadata": {
    "nbpresent": {
     "id": "205a5732-278d-4209-874b-e0d52e869906"
    }
   },
   "source": [
    "## Approach #2: Instrumentation\n",
    "\n",
    "What to instrument: \n",
    "- source code\n",
    "  - using reflection, or code generation\n",
    "- binaries\n",
    "  - e.g. virtual machine instrumentation\n"
   ]
  },
  {
   "cell_type": "markdown",
   "metadata": {
    "nbpresent": {
     "id": "a0b4e7de-7acc-41ad-a5a0-1c8b2bfd959f"
    }
   },
   "source": [
    "### Instrumenting Binaries. e.g. Java\n",
    "\n",
    "![](./images/java_instrumentation.png)\n",
    "\n",
    "- Java programs are compiled into bytecode\n",
    "- Bytecode is executed on the JVM\n",
    "- You can provide a Java Agent (via command line argument -javaagent) that modifieds the bytecode before it being executed\n",
    "\n",
    "\n",
    "Advantages:\n",
    "  - no need for parsing\n",
    "  - works for multiple languages\n",
    "\n",
    "\n",
    "\n",
    "  \n",
    "More on this topic:\n",
    "- https://blog.sqreen.com/building-a-dynamic-instrumentation-agent-for-java/\n"
   ]
  },
  {
   "cell_type": "markdown",
   "metadata": {
    "nbpresent": {
     "id": "15b9b170-9f7d-4f35-98ca-e1649680fd49"
    }
   },
   "source": [
    "### Instrumenting Source Code\n",
    "\n",
    "- can be done using **reflection**\n",
    "\n",
    "> Reflection is the ability of a program to manipulate as data something representing the state of the program during its own execution. \n",
    "> - **Introspection** is the ability for a program to observe and therefore reason about its own state. \n",
    "> - **Intercession** is the ability for a program to modify its own execution state or alter its own interpretation or meaning.\n",
    "\n",
    "- in some languages it's easier to do (e.g. Ruby, Python, Java)  than in others\n",
    "\n"
   ]
  },
  {
   "cell_type": "markdown",
   "metadata": {
    "nbpresent": {
     "id": "54811624-c009-419f-99dc-693089e7f284"
    }
   },
   "source": [
    "### Example: Introspection in Python\n",
    "\n",
    "Goal: \n",
    "- a program to observe it's own state (e.g. a class observing it's own methods)\n",
    "\n",
    "\n",
    "Python Specific: \n",
    "- use the `cls_name.__dict__.items( )` to get all the attributes of a class and filter those which represent a method because they have the `__call__` annotation"
   ]
  },
  {
   "cell_type": "code",
   "execution_count": 1,
   "metadata": {
    "nbpresent": {
     "id": "f3a9e13f-32f0-46d0-8d0e-87247de97afa"
    }
   },
   "outputs": [],
   "source": [
    "# an object-oriented foobar example\n",
    "class Foo(object):\n",
    "\n",
    "    def __init__(self):\n",
    "        self.x= 'foo'\n",
    "\n",
    "    def do(self):\n",
    "        print(self.x)\n",
    "\n",
    "\n",
    "class Bar(object):\n",
    "\n",
    "    def __init__(self, foo):\n",
    "        self.foo = foo\n",
    "\n",
    "    def do(self):\n",
    "        self.foo.do()"
   ]
  },
  {
   "cell_type": "code",
   "execution_count": 2,
   "metadata": {
    "nbpresent": {
     "id": "19af9674-a158-43e6-a794-cfc65211637d"
    }
   },
   "outputs": [],
   "source": [
    "def methods_in_class(cls_name):\n",
    "    \"\"\" list all methods in a class\"\"\"\n",
    "    result = {}\n",
    "    for method_name, value in cls_name.__dict__.items( ):\n",
    "            if hasattr( value, '__call__' ):\n",
    "                result [method_name] = value\n",
    "    return result\n"
   ]
  },
  {
   "cell_type": "code",
   "execution_count": 3,
   "metadata": {
    "nbpresent": {
     "id": "8262e7de-cec7-4dcf-a6d2-bf4c02659f67"
    },
    "scrolled": true
   },
   "outputs": [
    {
     "data": {
      "text/plain": [
       "{'__init__': <function __main__.Foo.__init__(self)>,\n",
       " 'do': <function __main__.Foo.do(self)>}"
      ]
     },
     "execution_count": 3,
     "metadata": {},
     "output_type": "execute_result"
    }
   ],
   "source": [
    "methods_in_class(Foo)"
   ]
  },
  {
   "cell_type": "markdown",
   "metadata": {
    "nbpresent": {
     "id": "e7b5a252-3ead-4126-a23f-a0162107a14d"
    }
   },
   "source": [
    "Notes:\n",
    "- it's the same program, even if it's in three cells\n",
    "  - could have moved the `list_methods` in the Bar class"
   ]
  },
  {
   "cell_type": "markdown",
   "metadata": {
    "nbpresent": {
     "id": "4711e785-b310-4727-a66a-c3fa84d536b4"
    }
   },
   "source": [
    "### Example: Intercession in Python\n",
    "\n",
    "Goal: \n",
    "- let's have our program replace it's methods on the fly \n",
    "  - each with another method that prints a note when the function is called\n",
    "  - we will thus trace the execution of the program!\n",
    "\n",
    "Python specific: \n",
    "- We rely on `setattr( cls_name, key, replacement )` to replace the method found under the name `key` with `replacement`\n",
    "\n",
    "\n"
   ]
  },
  {
   "cell_type": "code",
   "execution_count": 4,
   "metadata": {
    "nbpresent": {
     "id": "6a62c3c2-aee7-43dc-9df6-b0e75c03a824"
    }
   },
   "outputs": [],
   "source": [
    "# same classes as before\n",
    "class Foo(object):\n",
    "\n",
    "    def __init__(self):\n",
    "        self.x= 'foo'\n",
    "\n",
    "    def do(self):\n",
    "        print(self.x)\n",
    "\n",
    "\n",
    "class Bar(object):\n",
    "\n",
    "    def __init__(self, foo):\n",
    "        self.foo = foo\n",
    "\n",
    "    def do(self):\n",
    "        self.foo.do()"
   ]
  },
  {
   "cell_type": "code",
   "execution_count": 5,
   "metadata": {
    "nbpresent": {
     "id": "b8ab0024-eda0-4257-a96f-a484755427a6"
    }
   },
   "outputs": [],
   "source": [
    "def replace_methods( cls_name, replacement ):\n",
    "    \"\"\" replace every method in class cls_name with the replacement method \"\"\"\n",
    "    for method_name, original_method in methods_in_class(cls_name).items():\n",
    "            setattr( cls_name, method_name, replacement( original_method ) )\n",
    "            \n",
    "def wrapper( fn ):\n",
    "    def result( *args, **kwargs ):\n",
    "        print (f'entered {fn}')\n",
    "        return fn( *args, **kwargs )\n",
    "    return result\n"
   ]
  },
  {
   "cell_type": "code",
   "execution_count": 6,
   "metadata": {
    "nbpresent": {
     "id": "f0a769de-aa17-4213-af85-ae76496e0328"
    }
   },
   "outputs": [
    {
     "name": "stdout",
     "output_type": "stream",
     "text": [
      "entered <function Foo.__init__ at 0x10d335830>\n",
      "entered <function Foo.do at 0x10d3358c0>\n",
      "foo\n"
     ]
    }
   ],
   "source": [
    "replace_methods(Foo, wrapper)\n",
    "Foo().do()"
   ]
  },
  {
   "cell_type": "code",
   "execution_count": 7,
   "metadata": {},
   "outputs": [],
   "source": [
    "replace_methods(Bar, wrapper)\n"
   ]
  },
  {
   "cell_type": "code",
   "execution_count": 8,
   "metadata": {},
   "outputs": [
    {
     "name": "stdout",
     "output_type": "stream",
     "text": [
      "entered <function Foo.__init__ at 0x10d335830>\n",
      "entered <function Bar.__init__ at 0x10d335a70>\n",
      "entered <function Bar.do at 0x10d335b00>\n",
      "entered <function Foo.do at 0x10d3358c0>\n",
      "foo\n"
     ]
    }
   ],
   "source": [
    "bar = Bar(Foo())\n",
    "bar.do()"
   ]
  },
  {
   "cell_type": "markdown",
   "metadata": {
    "nbpresent": {
     "id": "b5beb401-020e-428f-a17b-15277e4fdd96"
    }
   },
   "source": [
    "##### Notes:\n",
    "- this is easier in a dynamically typed language\n",
    "- we have used **function wrappers**, a design pattern where (pretty much the Proxy design pattern):\n",
    "  - a function *wraps* another function in order to\n",
    "    - perform some *prologue* and/or *epilogue* tasks\n",
    "    - optimize (e.g. cache results )\n",
    "  - while the *wrapper* is *fully* compatible with the wrapped function so it can be used instead\n",
    "\n",
    "\n",
    "\n",
    "More on Function Wrappers: \n",
    "- https://wiki.python.org/moin/FunctionWrappers\n",
    "- Wrappers to the Rescue: http://citeseerx.ist.psu.edu/viewdoc/download?doi=10.1.1.18.6550&rep=rep1&type=pdf"
   ]
  },
  {
   "cell_type": "markdown",
   "metadata": {
    "nbpresent": {
     "id": "ba52e85e-313f-431a-9418-a3ce8c003d8c"
    }
   },
   "source": [
    "### Example: Tracing Method Calls with Function Wrappers\n",
    "\n",
    "- we want a wrapper that prints out when a method is called\n",
    "  - the method name\n",
    "  - who called it\n",
    "  \n",
    "\n",
    "- by deploying this in selected parts of our system we can trace all method calls\n",
    "\n"
   ]
  },
  {
   "cell_type": "code",
   "execution_count": 9,
   "metadata": {
    "nbpresent": {
     "id": "96cb39b8-ac3a-4dea-8d9c-55bec710ddcf"
    }
   },
   "outputs": [],
   "source": [
    "class Foo(object):\n",
    "\n",
    "    def __init__(self):\n",
    "        self.x= 'foo'\n",
    "\n",
    "    def do(self):\n",
    "        print(self.x)\n",
    "\n",
    "\n",
    "class Bar(object):\n",
    "\n",
    "    def __init__(self, foo):\n",
    "        self.foo = foo\n",
    "\n",
    "    def do(self):\n",
    "        self.foo.do()"
   ]
  },
  {
   "cell_type": "code",
   "execution_count": 10,
   "metadata": {
    "nbpresent": {
     "id": "ed10337f-a838-4ee3-96c2-c0aa85a41dd7"
    }
   },
   "outputs": [],
   "source": [
    "import inspect\n",
    "import sys\n",
    "\n",
    "def trace_call(caller_method, called_method):\n",
    "    print(caller_method + \" -> \" + called_method)\n",
    "    \n",
    "def tracing_wrapper( cls, fn ):\n",
    "    def result( *args, **kwargs ):\n",
    "        # the new stuff!!!          \n",
    "        caller_method = inspect.stack()[1].frame.f_code.co_name    \n",
    "        called_method = fn.__module__ + \".\" + str(cls) + \".\" + fn.__name__\n",
    "        trace_call(caller_method, called_method)\n",
    "        # up to here ^^^^\n",
    "        return fn( *args, **kwargs )\n",
    "    return result\n",
    "\n",
    "def wrap_methods( cls, wrapper ):\n",
    "    \"\"\" replace every method in class cls_name with a wrapper method \"\"\"\n",
    "    for key, value in cls.__dict__.items( ):\n",
    "        if hasattr( value, '__call__' ):\n",
    "            setattr( cls, key, wrapper( cls, value ) )\n"
   ]
  },
  {
   "cell_type": "code",
   "execution_count": 11,
   "metadata": {
    "nbpresent": {
     "id": "f8b52b9c-a323-4dbe-a3ee-ec2a34663b41"
    }
   },
   "outputs": [
    {
     "name": "stdout",
     "output_type": "stream",
     "text": [
      "<module> -> __main__.<class '__main__.Foo'>.__init__\n",
      "<module> -> __main__.<class '__main__.Bar'>.__init__\n",
      "<module> -> __main__.<class '__main__.Bar'>.do\n",
      "do -> __main__.<class '__main__.Foo'>.do\n",
      "foo\n"
     ]
    }
   ],
   "source": [
    "wrap_methods(Foo, tracing_wrapper)\n",
    "wrap_methods(Bar, tracing_wrapper)\n",
    "Bar(Foo()).do()"
   ]
  },
  {
   "cell_type": "markdown",
   "metadata": {
    "nbpresent": {
     "id": "31eb87ea-1f0a-436a-8640-05e9a008a6a4"
    }
   },
   "source": [
    "#### Case study\n"
   ]
  },
  {
   "cell_type": "code",
   "execution_count": 12,
   "metadata": {
    "nbpresent": {
     "id": "92b18ba7-dc05-45bd-9460-e01f11f1b53a"
    }
   },
   "outputs": [
    {
     "name": "stdout",
     "output_type": "stream",
     "text": [
      "/Users/egh/Zeeguu-Core\n"
     ]
    }
   ],
   "source": [
    "%cd /Users/egh/Zeeguu-Core"
   ]
  },
  {
   "cell_type": "code",
   "execution_count": 25,
   "metadata": {},
   "outputs": [],
   "source": [
    "import os\n",
    "os.environ['ZEEGUU_CORE_CONFIG'] = '/Users/egh/Zeeguu-Core/default_core.cfg'"
   ]
  },
  {
   "cell_type": "code",
   "execution_count": 26,
   "metadata": {
    "nbpresent": {
     "id": "8c5a7a17-5587-48aa-905c-34762dc61380"
    }
   },
   "outputs": [],
   "source": [
    "from zeeguu_core.model import User"
   ]
  },
  {
   "cell_type": "code",
   "execution_count": 29,
   "metadata": {
    "nbpresent": {
     "id": "b5688b12-a7ab-4242-a430-d6abee6b3f78"
    }
   },
   "outputs": [
    {
     "ename": "NoResultFound",
     "evalue": "No row was found for one()",
     "output_type": "error",
     "traceback": [
      "\u001b[0;31m---------------------------------------------------------------------------\u001b[0m",
      "\u001b[0;31mNoResultFound\u001b[0m                             Traceback (most recent call last)",
      "\u001b[0;32m<ipython-input-29-629e7dfdca95>\u001b[0m in \u001b[0;36m<module>\u001b[0;34m\u001b[0m\n\u001b[1;32m      1\u001b[0m \u001b[0;32mfrom\u001b[0m \u001b[0mtools\u001b[0m\u001b[0;34m.\u001b[0m\u001b[0mpast_exercises_for_user\u001b[0m \u001b[0;32mimport\u001b[0m \u001b[0mpast_exercises_for\u001b[0m\u001b[0;34m\u001b[0m\u001b[0;34m\u001b[0m\u001b[0m\n\u001b[0;32m----> 2\u001b[0;31m \u001b[0mpast_exercises_for\u001b[0m\u001b[0;34m(\u001b[0m\u001b[0;36m534\u001b[0m\u001b[0;34m)\u001b[0m\u001b[0;34m\u001b[0m\u001b[0;34m\u001b[0m\u001b[0m\n\u001b[0m",
      "\u001b[0;32m~/Zeeguu-Core/tools/past_exercises_for_user.py\u001b[0m in \u001b[0;36mpast_exercises_for\u001b[0;34m(user_id)\u001b[0m\n\u001b[1;32m     11\u001b[0m \u001b[0;34m\u001b[0m\u001b[0m\n\u001b[1;32m     12\u001b[0m \u001b[0;32mdef\u001b[0m \u001b[0mpast_exercises_for\u001b[0m\u001b[0;34m(\u001b[0m\u001b[0muser_id\u001b[0m\u001b[0;34m)\u001b[0m\u001b[0;34m:\u001b[0m\u001b[0;34m\u001b[0m\u001b[0;34m\u001b[0m\u001b[0m\n\u001b[0;32m---> 13\u001b[0;31m   \u001b[0muser\u001b[0m \u001b[0;34m=\u001b[0m \u001b[0mUser\u001b[0m\u001b[0;34m.\u001b[0m\u001b[0mfind_by_id\u001b[0m\u001b[0;34m(\u001b[0m\u001b[0mUSER_ID\u001b[0m\u001b[0;34m)\u001b[0m\u001b[0;34m\u001b[0m\u001b[0;34m\u001b[0m\u001b[0m\n\u001b[0m\u001b[1;32m     14\u001b[0m \u001b[0;34m\u001b[0m\u001b[0m\n\u001b[1;32m     15\u001b[0m   q = (db.session.query(Exercise).\n",
      "\u001b[0;32m~/Zeeguu-Core/zeeguu_core/model/user.py\u001b[0m in \u001b[0;36mfind_by_id\u001b[0;34m(cls, id)\u001b[0m\n\u001b[1;32m    535\u001b[0m     \u001b[0;34m@\u001b[0m\u001b[0mclassmethod\u001b[0m\u001b[0;34m\u001b[0m\u001b[0;34m\u001b[0m\u001b[0m\n\u001b[1;32m    536\u001b[0m     \u001b[0;32mdef\u001b[0m \u001b[0mfind_by_id\u001b[0m\u001b[0;34m(\u001b[0m\u001b[0mcls\u001b[0m\u001b[0;34m,\u001b[0m \u001b[0mid\u001b[0m\u001b[0;34m)\u001b[0m\u001b[0;34m:\u001b[0m\u001b[0;34m\u001b[0m\u001b[0;34m\u001b[0m\u001b[0m\n\u001b[0;32m--> 537\u001b[0;31m         \u001b[0;32mreturn\u001b[0m \u001b[0mUser\u001b[0m\u001b[0;34m.\u001b[0m\u001b[0mquery\u001b[0m\u001b[0;34m.\u001b[0m\u001b[0mfilter\u001b[0m\u001b[0;34m(\u001b[0m\u001b[0mUser\u001b[0m\u001b[0;34m.\u001b[0m\u001b[0mid\u001b[0m \u001b[0;34m==\u001b[0m \u001b[0mid\u001b[0m\u001b[0;34m)\u001b[0m\u001b[0;34m.\u001b[0m\u001b[0mone\u001b[0m\u001b[0;34m(\u001b[0m\u001b[0;34m)\u001b[0m\u001b[0;34m\u001b[0m\u001b[0;34m\u001b[0m\u001b[0m\n\u001b[0m\u001b[1;32m    538\u001b[0m \u001b[0;34m\u001b[0m\u001b[0m\n\u001b[1;32m    539\u001b[0m     \u001b[0;34m@\u001b[0m\u001b[0mclassmethod\u001b[0m\u001b[0;34m\u001b[0m\u001b[0;34m\u001b[0m\u001b[0m\n",
      "\u001b[0;32m/usr/local/lib/python3.7/site-packages/sqlalchemy/orm/query.py\u001b[0m in \u001b[0;36mone\u001b[0;34m(self)\u001b[0m\n\u001b[1;32m   3368\u001b[0m         \u001b[0;32melse\u001b[0m\u001b[0;34m:\u001b[0m\u001b[0;34m\u001b[0m\u001b[0;34m\u001b[0m\u001b[0m\n\u001b[1;32m   3369\u001b[0m             \u001b[0;32mif\u001b[0m \u001b[0mret\u001b[0m \u001b[0;32mis\u001b[0m \u001b[0;32mNone\u001b[0m\u001b[0;34m:\u001b[0m\u001b[0;34m\u001b[0m\u001b[0;34m\u001b[0m\u001b[0m\n\u001b[0;32m-> 3370\u001b[0;31m                 \u001b[0;32mraise\u001b[0m \u001b[0morm_exc\u001b[0m\u001b[0;34m.\u001b[0m\u001b[0mNoResultFound\u001b[0m\u001b[0;34m(\u001b[0m\u001b[0;34m\"No row was found for one()\"\u001b[0m\u001b[0;34m)\u001b[0m\u001b[0;34m\u001b[0m\u001b[0;34m\u001b[0m\u001b[0m\n\u001b[0m\u001b[1;32m   3371\u001b[0m             \u001b[0;32mreturn\u001b[0m \u001b[0mret\u001b[0m\u001b[0;34m\u001b[0m\u001b[0;34m\u001b[0m\u001b[0m\n\u001b[1;32m   3372\u001b[0m \u001b[0;34m\u001b[0m\u001b[0m\n",
      "\u001b[0;31mNoResultFound\u001b[0m: No row was found for one()"
     ]
    }
   ],
   "source": [
    "from tools.past_exercises_for_user import past_exercises_for\n",
    "past_exercises_for(534)"
   ]
  },
  {
   "cell_type": "code",
   "execution_count": 30,
   "metadata": {
    "nbpresent": {
     "id": "ef7dfcac-7d47-4345-b0d1-9afd0546f950"
    }
   },
   "outputs": [],
   "source": [
    "def all_classes_in(mod):\n",
    "    import inspect, importlib\n",
    "    \"\"\" return all the classes in a given module \"\"\"\n",
    "    result = []\n",
    "    for name, thingy in inspect.getmembers(importlib.import_module(mod)):\n",
    "        if inspect.ismodule(thingy):\n",
    "            if thingy.__name__.startswith(mod):\n",
    "                result.extend(all_classes_in(thingy.__name__))\n",
    "\n",
    "        elif inspect.isclass(thingy):\n",
    "            if (thingy.__module__ == mod):\n",
    "                result.append(thingy)\n",
    "    return result\n"
   ]
  },
  {
   "cell_type": "code",
   "execution_count": 31,
   "metadata": {
    "nbpresent": {
     "id": "cb5b4ace-9612-416b-9d5f-87a077374d99"
    },
    "scrolled": true
   },
   "outputs": [
    {
     "data": {
      "text/plain": [
       "[zeeguu_core.language.difficulty_estimator_factory.DifficultyEstimatorFactory,\n",
       " zeeguu_core.language.difficulty_estimator_strategy.DifficultyEstimatorStrategy,\n",
       " zeeguu_core.language.strategies.default_difficulty_estimator.DefaultDifficultyEstimator,\n",
       " zeeguu_core.language.strategies.flesch_kincaid_difficulty_estimator.FleschKincaidDifficultyEstimator,\n",
       " zeeguu_core.model.SortedExerciseLog.SortedExerciseLog,\n",
       " zeeguu_core.model.article.Article,\n",
       " zeeguu_core.model.article_word.ArticleWord,\n",
       " zeeguu_core.model.articles_cache.ArticlesCache,\n",
       " zeeguu_core.model.bookmark.Bookmark,\n",
       " zeeguu_core.model.bookmark_priority_arts.BookmarkPriorityARTS,\n",
       " zeeguu_core.model.cohort.Cohort,\n",
       " zeeguu_core.model.cohort_article_map.CohortArticleMap,\n",
       " zeeguu_core.model.domain_name.DomainName,\n",
       " zeeguu_core.model.exercise.Exercise,\n",
       " zeeguu_core.model.exercise_outcome.ExerciseOutcome,\n",
       " zeeguu_core.model.exercise_source.ExerciseSource,\n",
       " zeeguu_core.model.feed.RSSFeed,\n",
       " zeeguu_core.model.feed_registrations.RSSFeedRegistration,\n",
       " zeeguu_core.model.language.Language,\n",
       " zeeguu_core.model.localized_topic.LocalizedTopic,\n",
       " zeeguu_core.model.search.Search,\n",
       " zeeguu_core.model.search_filter.SearchFilter,\n",
       " zeeguu_core.model.search_subscription.SearchSubscription,\n",
       " zeeguu_core.model.session.Session,\n",
       " zeeguu_core.model.smartwatch.watch_event_type.WatchEventType,\n",
       " zeeguu_core.model.smartwatch.watch_interaction_event.WatchInteractionEvent,\n",
       " zeeguu_core.model.teacher.Teacher,\n",
       " zeeguu_core.model.teacher_cohort_map.TeacherCohortMap,\n",
       " zeeguu_core.model.text.Text,\n",
       " zeeguu_core.model.topic.Topic,\n",
       " zeeguu_core.model.topic_filter.TopicFilter,\n",
       " zeeguu_core.model.topic_subscription.TopicSubscription,\n",
       " zeeguu_core.model.unique_code.UniqueCode,\n",
       " zeeguu_core.model.url.Url,\n",
       " zeeguu_core.model.user.User,\n",
       " zeeguu_core.model.user_activitiy_data.UserActivityData,\n",
       " zeeguu_core.model.user_article.UserArticle,\n",
       " zeeguu_core.model.user_exercise_session.UserExerciseSession,\n",
       " zeeguu_core.model.user_language.UserLanguage,\n",
       " zeeguu_core.model.user_preference.UserPreference,\n",
       " zeeguu_core.model.user_reading_session.UserReadingSession,\n",
       " zeeguu_core.model.user_word.UserWord,\n",
       " zeeguu_core.model.word_knowledge.word_interaction_history.WordInteractionEvent,\n",
       " zeeguu_core.model.word_knowledge.word_interaction_history.WordInteractionHistory,\n",
       " zeeguu_core.util.encoding.JSONSerializable]"
      ]
     },
     "execution_count": 31,
     "metadata": {},
     "output_type": "execute_result"
    }
   ],
   "source": [
    "import zeeguu_core\n",
    "all_classes_in('zeeguu_core')"
   ]
  },
  {
   "cell_type": "code",
   "execution_count": 32,
   "metadata": {
    "nbpresent": {
     "id": "e4caec7b-ca44-4680-8653-d2f80f48b5c6"
    }
   },
   "outputs": [],
   "source": [
    "for each in all_classes_in('zeeguu_core'):\n",
    "    wrap_methods(each, tracing_wrapper)\n",
    "    "
   ]
  },
  {
   "cell_type": "code",
   "execution_count": 33,
   "metadata": {
    "nbpresent": {
     "id": "5c82d7cf-5dbf-4dae-b88e-4ee5f6fa8ced"
    }
   },
   "outputs": [
    {
     "ename": "NoResultFound",
     "evalue": "No row was found for one()",
     "output_type": "error",
     "traceback": [
      "\u001b[0;31m---------------------------------------------------------------------------\u001b[0m",
      "\u001b[0;31mNoResultFound\u001b[0m                             Traceback (most recent call last)",
      "\u001b[0;32m<ipython-input-33-972fb79fbc95>\u001b[0m in \u001b[0;36m<module>\u001b[0;34m\u001b[0m\n\u001b[0;32m----> 1\u001b[0;31m \u001b[0mpast_exercises_for\u001b[0m\u001b[0;34m(\u001b[0m\u001b[0;36m534\u001b[0m\u001b[0;34m)\u001b[0m\u001b[0;34m\u001b[0m\u001b[0;34m\u001b[0m\u001b[0m\n\u001b[0m",
      "\u001b[0;32m~/Zeeguu-Core/tools/past_exercises_for_user.py\u001b[0m in \u001b[0;36mpast_exercises_for\u001b[0;34m(user_id)\u001b[0m\n\u001b[1;32m     11\u001b[0m \u001b[0;34m\u001b[0m\u001b[0m\n\u001b[1;32m     12\u001b[0m \u001b[0;32mdef\u001b[0m \u001b[0mpast_exercises_for\u001b[0m\u001b[0;34m(\u001b[0m\u001b[0muser_id\u001b[0m\u001b[0;34m)\u001b[0m\u001b[0;34m:\u001b[0m\u001b[0;34m\u001b[0m\u001b[0;34m\u001b[0m\u001b[0m\n\u001b[0;32m---> 13\u001b[0;31m   \u001b[0muser\u001b[0m \u001b[0;34m=\u001b[0m \u001b[0mUser\u001b[0m\u001b[0;34m.\u001b[0m\u001b[0mfind_by_id\u001b[0m\u001b[0;34m(\u001b[0m\u001b[0mUSER_ID\u001b[0m\u001b[0;34m)\u001b[0m\u001b[0;34m\u001b[0m\u001b[0;34m\u001b[0m\u001b[0m\n\u001b[0m\u001b[1;32m     14\u001b[0m \u001b[0;34m\u001b[0m\u001b[0m\n\u001b[1;32m     15\u001b[0m   q = (db.session.query(Exercise).\n",
      "\u001b[0;32m~/Zeeguu-Core/zeeguu_core/model/user.py\u001b[0m in \u001b[0;36mfind_by_id\u001b[0;34m(cls, id)\u001b[0m\n\u001b[1;32m    535\u001b[0m     \u001b[0;34m@\u001b[0m\u001b[0mclassmethod\u001b[0m\u001b[0;34m\u001b[0m\u001b[0;34m\u001b[0m\u001b[0m\n\u001b[1;32m    536\u001b[0m     \u001b[0;32mdef\u001b[0m \u001b[0mfind_by_id\u001b[0m\u001b[0;34m(\u001b[0m\u001b[0mcls\u001b[0m\u001b[0;34m,\u001b[0m \u001b[0mid\u001b[0m\u001b[0;34m)\u001b[0m\u001b[0;34m:\u001b[0m\u001b[0;34m\u001b[0m\u001b[0;34m\u001b[0m\u001b[0m\n\u001b[0;32m--> 537\u001b[0;31m         \u001b[0;32mreturn\u001b[0m \u001b[0mUser\u001b[0m\u001b[0;34m.\u001b[0m\u001b[0mquery\u001b[0m\u001b[0;34m.\u001b[0m\u001b[0mfilter\u001b[0m\u001b[0;34m(\u001b[0m\u001b[0mUser\u001b[0m\u001b[0;34m.\u001b[0m\u001b[0mid\u001b[0m \u001b[0;34m==\u001b[0m \u001b[0mid\u001b[0m\u001b[0;34m)\u001b[0m\u001b[0;34m.\u001b[0m\u001b[0mone\u001b[0m\u001b[0;34m(\u001b[0m\u001b[0;34m)\u001b[0m\u001b[0;34m\u001b[0m\u001b[0;34m\u001b[0m\u001b[0m\n\u001b[0m\u001b[1;32m    538\u001b[0m \u001b[0;34m\u001b[0m\u001b[0m\n\u001b[1;32m    539\u001b[0m     \u001b[0;34m@\u001b[0m\u001b[0mclassmethod\u001b[0m\u001b[0;34m\u001b[0m\u001b[0;34m\u001b[0m\u001b[0m\n",
      "\u001b[0;32m/usr/local/lib/python3.7/site-packages/sqlalchemy/orm/query.py\u001b[0m in \u001b[0;36mone\u001b[0;34m(self)\u001b[0m\n\u001b[1;32m   3368\u001b[0m         \u001b[0;32melse\u001b[0m\u001b[0;34m:\u001b[0m\u001b[0;34m\u001b[0m\u001b[0;34m\u001b[0m\u001b[0m\n\u001b[1;32m   3369\u001b[0m             \u001b[0;32mif\u001b[0m \u001b[0mret\u001b[0m \u001b[0;32mis\u001b[0m \u001b[0;32mNone\u001b[0m\u001b[0;34m:\u001b[0m\u001b[0;34m\u001b[0m\u001b[0;34m\u001b[0m\u001b[0m\n\u001b[0;32m-> 3370\u001b[0;31m                 \u001b[0;32mraise\u001b[0m \u001b[0morm_exc\u001b[0m\u001b[0;34m.\u001b[0m\u001b[0mNoResultFound\u001b[0m\u001b[0;34m(\u001b[0m\u001b[0;34m\"No row was found for one()\"\u001b[0m\u001b[0;34m)\u001b[0m\u001b[0;34m\u001b[0m\u001b[0;34m\u001b[0m\u001b[0m\n\u001b[0m\u001b[1;32m   3371\u001b[0m             \u001b[0;32mreturn\u001b[0m \u001b[0mret\u001b[0m\u001b[0;34m\u001b[0m\u001b[0;34m\u001b[0m\u001b[0m\n\u001b[1;32m   3372\u001b[0m \u001b[0;34m\u001b[0m\u001b[0m\n",
      "\u001b[0;31mNoResultFound\u001b[0m: No row was found for one()"
     ]
    }
   ],
   "source": [
    "past_exercises_for(534)"
   ]
  },
  {
   "cell_type": "code",
   "execution_count": 34,
   "metadata": {},
   "outputs": [],
   "source": [
    "tracefile = open(\"/Users/egh/tracing_calls_in_zeeguu_core.txt\", \"a\")\n",
    "\n",
    "def trace_call(caller_method, called_method):\n",
    "    tracefile.write(caller_method + \" -> \" + called_method)\n"
   ]
  },
  {
   "cell_type": "code",
   "execution_count": 35,
   "metadata": {},
   "outputs": [
    {
     "ename": "NoResultFound",
     "evalue": "No row was found for one()",
     "output_type": "error",
     "traceback": [
      "\u001b[0;31m---------------------------------------------------------------------------\u001b[0m",
      "\u001b[0;31mNoResultFound\u001b[0m                             Traceback (most recent call last)",
      "\u001b[0;32m<ipython-input-35-972fb79fbc95>\u001b[0m in \u001b[0;36m<module>\u001b[0;34m\u001b[0m\n\u001b[0;32m----> 1\u001b[0;31m \u001b[0mpast_exercises_for\u001b[0m\u001b[0;34m(\u001b[0m\u001b[0;36m534\u001b[0m\u001b[0;34m)\u001b[0m\u001b[0;34m\u001b[0m\u001b[0;34m\u001b[0m\u001b[0m\n\u001b[0m",
      "\u001b[0;32m~/Zeeguu-Core/tools/past_exercises_for_user.py\u001b[0m in \u001b[0;36mpast_exercises_for\u001b[0;34m(user_id)\u001b[0m\n\u001b[1;32m     11\u001b[0m \u001b[0;34m\u001b[0m\u001b[0m\n\u001b[1;32m     12\u001b[0m \u001b[0;32mdef\u001b[0m \u001b[0mpast_exercises_for\u001b[0m\u001b[0;34m(\u001b[0m\u001b[0muser_id\u001b[0m\u001b[0;34m)\u001b[0m\u001b[0;34m:\u001b[0m\u001b[0;34m\u001b[0m\u001b[0;34m\u001b[0m\u001b[0m\n\u001b[0;32m---> 13\u001b[0;31m   \u001b[0muser\u001b[0m \u001b[0;34m=\u001b[0m \u001b[0mUser\u001b[0m\u001b[0;34m.\u001b[0m\u001b[0mfind_by_id\u001b[0m\u001b[0;34m(\u001b[0m\u001b[0mUSER_ID\u001b[0m\u001b[0;34m)\u001b[0m\u001b[0;34m\u001b[0m\u001b[0;34m\u001b[0m\u001b[0m\n\u001b[0m\u001b[1;32m     14\u001b[0m \u001b[0;34m\u001b[0m\u001b[0m\n\u001b[1;32m     15\u001b[0m   q = (db.session.query(Exercise).\n",
      "\u001b[0;32m~/Zeeguu-Core/zeeguu_core/model/user.py\u001b[0m in \u001b[0;36mfind_by_id\u001b[0;34m(cls, id)\u001b[0m\n\u001b[1;32m    535\u001b[0m     \u001b[0;34m@\u001b[0m\u001b[0mclassmethod\u001b[0m\u001b[0;34m\u001b[0m\u001b[0;34m\u001b[0m\u001b[0m\n\u001b[1;32m    536\u001b[0m     \u001b[0;32mdef\u001b[0m \u001b[0mfind_by_id\u001b[0m\u001b[0;34m(\u001b[0m\u001b[0mcls\u001b[0m\u001b[0;34m,\u001b[0m \u001b[0mid\u001b[0m\u001b[0;34m)\u001b[0m\u001b[0;34m:\u001b[0m\u001b[0;34m\u001b[0m\u001b[0;34m\u001b[0m\u001b[0m\n\u001b[0;32m--> 537\u001b[0;31m         \u001b[0;32mreturn\u001b[0m \u001b[0mUser\u001b[0m\u001b[0;34m.\u001b[0m\u001b[0mquery\u001b[0m\u001b[0;34m.\u001b[0m\u001b[0mfilter\u001b[0m\u001b[0;34m(\u001b[0m\u001b[0mUser\u001b[0m\u001b[0;34m.\u001b[0m\u001b[0mid\u001b[0m \u001b[0;34m==\u001b[0m \u001b[0mid\u001b[0m\u001b[0;34m)\u001b[0m\u001b[0;34m.\u001b[0m\u001b[0mone\u001b[0m\u001b[0;34m(\u001b[0m\u001b[0;34m)\u001b[0m\u001b[0;34m\u001b[0m\u001b[0;34m\u001b[0m\u001b[0m\n\u001b[0m\u001b[1;32m    538\u001b[0m \u001b[0;34m\u001b[0m\u001b[0m\n\u001b[1;32m    539\u001b[0m     \u001b[0;34m@\u001b[0m\u001b[0mclassmethod\u001b[0m\u001b[0;34m\u001b[0m\u001b[0;34m\u001b[0m\u001b[0m\n",
      "\u001b[0;32m/usr/local/lib/python3.7/site-packages/sqlalchemy/orm/query.py\u001b[0m in \u001b[0;36mone\u001b[0;34m(self)\u001b[0m\n\u001b[1;32m   3368\u001b[0m         \u001b[0;32melse\u001b[0m\u001b[0;34m:\u001b[0m\u001b[0;34m\u001b[0m\u001b[0;34m\u001b[0m\u001b[0m\n\u001b[1;32m   3369\u001b[0m             \u001b[0;32mif\u001b[0m \u001b[0mret\u001b[0m \u001b[0;32mis\u001b[0m \u001b[0;32mNone\u001b[0m\u001b[0;34m:\u001b[0m\u001b[0;34m\u001b[0m\u001b[0;34m\u001b[0m\u001b[0m\n\u001b[0;32m-> 3370\u001b[0;31m                 \u001b[0;32mraise\u001b[0m \u001b[0morm_exc\u001b[0m\u001b[0;34m.\u001b[0m\u001b[0mNoResultFound\u001b[0m\u001b[0;34m(\u001b[0m\u001b[0;34m\"No row was found for one()\"\u001b[0m\u001b[0;34m)\u001b[0m\u001b[0;34m\u001b[0m\u001b[0;34m\u001b[0m\u001b[0m\n\u001b[0m\u001b[1;32m   3371\u001b[0m             \u001b[0;32mreturn\u001b[0m \u001b[0mret\u001b[0m\u001b[0;34m\u001b[0m\u001b[0;34m\u001b[0m\u001b[0m\n\u001b[1;32m   3372\u001b[0m \u001b[0;34m\u001b[0m\u001b[0m\n",
      "\u001b[0;31mNoResultFound\u001b[0m: No row was found for one()"
     ]
    }
   ],
   "source": [
    "past_exercises_for(534)"
   ]
  },
  {
   "cell_type": "code",
   "execution_count": 37,
   "metadata": {},
   "outputs": [
    {
     "name": "stdout",
     "output_type": "stream",
     "text": [
      "/Users/egh/Zeeguu-Core/tools\n"
     ]
    }
   ],
   "source": [
    "%cd tools"
   ]
  },
  {
   "cell_type": "markdown",
   "metadata": {
    "nbpresent": {
     "id": "a1b23f85-8c0b-4645-bb20-cd2dbf4ae008"
    }
   },
   "source": [
    "####  Challenges for you: Improve this if you can!\n",
    "- fully qualified names of the caller method\n",
    "- compute overhead\n",
    "- extract graph from unit tests\n",
    "- instrument the running of the unit tests\n",
    "  - **compare dyanmically extracted graph with statically extracted graph** \n",
    "\n"
   ]
  },
  {
   "cell_type": "markdown",
   "metadata": {
    "nbpresent": {
     "id": "4863dd60-386b-4511-a15b-ac10da1c344d"
    }
   },
   "source": [
    "### Disadvantages of Wrappers\n",
    "- they introduce an overhead (but then, so do all code related tracing)\n",
    "- they require you to obtain the **live** objects (must be in the same process as the instrumented code)\n",
    "\n",
    "\n",
    "### Advantages of Wrappers\n",
    "\n",
    "- still allows surgical precision \n",
    "- allow **even more surgical deployment and removal** of wrappers at runtime\n",
    "  - e.g. FlaskMonitoringDashboard \n",
    "- as opposed to off-the-shelf tools that trace the entire execution of the program\n",
    "  - compare with\n",
    "    ```python -m trace --trackcalls past_exercises_for_user.py ```\n",
    "    \n",
    "    - (executed from within the tools folder)\n",
    "    \n",
    "   \n",
    "    \n",
    "More on the `trace` module: https://docs.python.org/3/library/trace.html"
   ]
  },
  {
   "cell_type": "markdown",
   "metadata": {
    "nbpresent": {
     "id": "02bb3540-e6ed-4fba-999b-91427a69ca64"
    }
   },
   "source": [
    "## Approach #3: Traffic Analysis\n",
    "\n",
    "- useful for service oriented architectures\n",
    "- monitors the messages on the wire\n",
    "- powerful approach for reverse engineering services\n",
    "\n",
    "\n",
    "Read: https://danlebrero.com/2017/04/06/documenting-your-architecture-wireshark-plantuml-and-a-repl/\n",
    "\n",
    "Further Possibilities:\n",
    "- If somebody wants to work on this as their report, replicating this for Zeeguu-API / Zeeguu-Web would be great!\n",
    "- If not for now, doing **something like this would be a great starting point for a thesis**\n",
    "\n"
   ]
  },
  {
   "cell_type": "markdown",
   "metadata": {
    "nbpresent": {
     "id": "985f1135-42dd-471d-a855-4b4222710b13"
    }
   },
   "source": [
    "## Limitations\n",
    "\n",
    "- limited by execution coverage \n",
    "  - a program does not reach an execution point... => no data (e.g. Word but user never prints)\n",
    "  \n",
    "  \n",
    "- can slow down the application considerably \n",
    "\n",
    "\n",
    "- can result in a large amount of of data\n",
    "\n",
    "  \n"
   ]
  },
  {
   "cell_type": "markdown",
   "metadata": {
    "nbpresent": {
     "id": "8e222d77-630d-4d5d-8fc4-8fca6af57657"
    }
   },
   "source": [
    "## Uses Beyond Architecture Recovery\n",
    "\n",
    "- Performance monitoring (e.g. the FMD)\n",
    "- Intercepting and tracing specific calls\n",
    "  - e.g. calls to the DB, calls across the network\n",
    "  \n",
    "- Quality control (e.g. test coverage tool)\n",
    "- Dynamic optimizations \n",
    "- Logging Energy Usage (https://help.apple.com/instruments/mac/current/#/dev03a7149d)"
   ]
  },
  {
   "cell_type": "markdown",
   "metadata": {
    "nbpresent": {
     "id": "14df1ce6-b858-46a5-a242-eca37d805c56"
    }
   },
   "source": [
    "### Further Reading\n",
    "\n",
    "[Optional] Papers: \n",
    "- **Visualizing the Execution of Java Programs**. Wim De Pauw, Erik Jensen, Nick Mitchell, Gary Sevitsky, John Vlissides, Jeaha Yang\n",
    "\n",
    "- **Correlating Features and Code Using a Compact Two-Sideed Trace Analysis Approach**. Orla Greevy, Stephane Ducasse. \n"
   ]
  },
  {
   "cell_type": "code",
   "execution_count": null,
   "metadata": {},
   "outputs": [],
   "source": []
  }
 ],
 "metadata": {
  "kernelspec": {
   "display_name": "Python 3",
   "language": "python",
   "name": "python3"
  },
  "language_info": {
   "codemirror_mode": {
    "name": "ipython",
    "version": 3
   },
   "file_extension": ".py",
   "mimetype": "text/x-python",
   "name": "python",
   "nbconvert_exporter": "python",
   "pygments_lexer": "ipython3",
   "version": "3.7.6"
  },
  "nbpresent": {
   "slides": {
    "0a2ba07d-9ade-45f9-8380-adfcff418131": {
     "id": "0a2ba07d-9ade-45f9-8380-adfcff418131",
     "prev": "aab17e6c-ff35-4afb-973e-764076ca8ca5",
     "regions": {
      "5d45a796-9e68-4cc2-bddb-36cfcd48b168": {
       "attrs": {
        "height": 0.8,
        "width": 0.8,
        "x": 0.1,
        "y": 0.1
       },
       "content": {
        "cell": "54811624-c009-419f-99dc-693089e7f284",
        "part": "whole"
       },
       "id": "5d45a796-9e68-4cc2-bddb-36cfcd48b168"
      }
     }
    },
    "0a333332-d9a1-4fb5-b064-e30558bb0a25": {
     "id": "0a333332-d9a1-4fb5-b064-e30558bb0a25",
     "prev": "9c70ee2e-1ec6-4e3b-90c2-15bfbba4b179",
     "regions": {
      "c3792162-c600-428a-abdc-b4e8a7a7ae47": {
       "attrs": {
        "height": 0.8,
        "width": 0.8,
        "x": 0.1,
        "y": 0.1
       },
       "content": {
        "cell": "ed10337f-a838-4ee3-96c2-c0aa85a41dd7",
        "part": "whole"
       },
       "id": "c3792162-c600-428a-abdc-b4e8a7a7ae47"
      }
     }
    },
    "0dffd81a-8974-43f1-bd1a-6b4efb975e3c": {
     "id": "0dffd81a-8974-43f1-bd1a-6b4efb975e3c",
     "prev": "1df1b56b-e009-4944-a13a-9cb45b662881",
     "regions": {
      "dd5273fb-ec9b-43fe-8125-b8f3d53c011c": {
       "attrs": {
        "height": 0.8,
        "width": 0.8,
        "x": 0.1,
        "y": 0.1
       },
       "content": {
        "cell": "8e222d77-630d-4d5d-8fc4-8fca6af57657",
        "part": "whole"
       },
       "id": "dd5273fb-ec9b-43fe-8125-b8f3d53c011c"
      }
     }
    },
    "10b447d8-59c0-4269-99c4-f6a1dd1a9721": {
     "id": "10b447d8-59c0-4269-99c4-f6a1dd1a9721",
     "prev": "4773ddb6-03b9-44bc-a50e-3a83aebf430a",
     "regions": {
      "f2c72f5e-6eeb-453c-8ebc-009c4e3ee797": {
       "attrs": {
        "height": 0.8,
        "width": 0.8,
        "x": 0.1,
        "y": 0.1
       },
       "content": {
        "cell": "3cbfbedb-64d3-4ffc-83d5-9c5acef1fa7b",
        "part": "whole"
       },
       "id": "f2c72f5e-6eeb-453c-8ebc-009c4e3ee797"
      }
     }
    },
    "1df1b56b-e009-4944-a13a-9cb45b662881": {
     "id": "1df1b56b-e009-4944-a13a-9cb45b662881",
     "prev": "2446ec97-f867-4e56-9bd2-9c5fb24771a2",
     "regions": {
      "58ad4239-9a85-4d68-be1b-6f8ea3232642": {
       "attrs": {
        "height": 0.8,
        "width": 0.8,
        "x": 0.1,
        "y": 0.1
       },
       "content": {
        "cell": "985f1135-42dd-471d-a855-4b4222710b13",
        "part": "whole"
       },
       "id": "58ad4239-9a85-4d68-be1b-6f8ea3232642"
      }
     }
    },
    "208fbb63-d1f2-4c22-a482-5a201c1be328": {
     "id": "208fbb63-d1f2-4c22-a482-5a201c1be328",
     "prev": "7739b565-c974-402c-a8ba-676d492e8fc9",
     "regions": {
      "3f58de3c-5445-4a71-9463-df635a4c93c7": {
       "attrs": {
        "height": 0.8,
        "width": 0.8,
        "x": 0.1,
        "y": 0.1
       },
       "content": {
        "cell": "6a62c3c2-aee7-43dc-9df6-b0e75c03a824",
        "part": "whole"
       },
       "id": "3f58de3c-5445-4a71-9463-df635a4c93c7"
      }
     }
    },
    "2446ec97-f867-4e56-9bd2-9c5fb24771a2": {
     "id": "2446ec97-f867-4e56-9bd2-9c5fb24771a2",
     "prev": "9bc0c8e1-1b67-468c-819a-e01f23ad5b63",
     "regions": {
      "f706200f-1901-462c-99ca-1589b0fdead5": {
       "attrs": {
        "height": 0.8,
        "width": 0.8,
        "x": 0.1,
        "y": 0.1
       },
       "content": {
        "cell": "02bb3540-e6ed-4fba-999b-91427a69ca64",
        "part": "whole"
       },
       "id": "f706200f-1901-462c-99ca-1589b0fdead5"
      }
     }
    },
    "26460fd8-4379-4de4-9c4c-f1a2eb48f3cb": {
     "id": "26460fd8-4379-4de4-9c4c-f1a2eb48f3cb",
     "prev": "e8718bd2-e790-49ad-a97a-27f2fcf59284",
     "regions": {
      "e4af6a77-66e0-4cf2-923a-6ddfdcd6710e": {
       "attrs": {
        "height": 0.8,
        "width": 0.8,
        "x": 0.1,
        "y": 0.1
       },
       "content": {
        "cell": "5c82d7cf-5dbf-4dae-b88e-4ee5f6fa8ced",
        "part": "whole"
       },
       "id": "e4af6a77-66e0-4cf2-923a-6ddfdcd6710e"
      }
     }
    },
    "317233c4-f88b-41e2-8e06-353d65532dc4": {
     "id": "317233c4-f88b-41e2-8e06-353d65532dc4",
     "prev": "ded4f69e-428b-4105-9139-7ecb6bf864ad",
     "regions": {
      "78c0de43-4f79-4c40-9402-469bb7fe8c21": {
       "attrs": {
        "height": 0.8,
        "width": 0.8,
        "x": 0.1,
        "y": 0.1
       },
       "content": {
        "cell": "b5688b12-a7ab-4242-a430-d6abee6b3f78",
        "part": "whole"
       },
       "id": "78c0de43-4f79-4c40-9402-469bb7fe8c21"
      }
     }
    },
    "3ea47fdc-b607-46b4-aa68-d3a8ef9472f9": {
     "id": "3ea47fdc-b607-46b4-aa68-d3a8ef9472f9",
     "prev": "8f29febf-b017-4fcf-b4dc-1618b22a9a28",
     "regions": {
      "43f50031-5a1a-4d16-ba9d-14cfb1215f98": {
       "attrs": {
        "height": 0.8,
        "width": 0.8,
        "x": 0.1,
        "y": 0.1
       },
       "content": {
        "cell": "f0a769de-aa17-4213-af85-ae76496e0328",
        "part": "whole"
       },
       "id": "43f50031-5a1a-4d16-ba9d-14cfb1215f98"
      }
     }
    },
    "4773ddb6-03b9-44bc-a50e-3a83aebf430a": {
     "id": "4773ddb6-03b9-44bc-a50e-3a83aebf430a",
     "prev": "c6c98c7e-e425-47b9-9087-336fcc5afe63",
     "regions": {
      "8eba3793-e7c2-479e-a3f4-934f85a86392": {
       "attrs": {
        "height": 0.8,
        "width": 0.8,
        "x": 0.1,
        "y": 0.1
       },
       "content": {
        "cell": "89c73c54-6cee-4197-8f43-650099cef85c",
        "part": "whole"
       },
       "id": "8eba3793-e7c2-479e-a3f4-934f85a86392"
      }
     }
    },
    "4b6b657b-c185-4679-86b8-05d50b88282f": {
     "id": "4b6b657b-c185-4679-86b8-05d50b88282f",
     "prev": "0a333332-d9a1-4fb5-b064-e30558bb0a25",
     "regions": {
      "f1d86779-5848-4931-8e6f-79083c50dadb": {
       "attrs": {
        "height": 0.8,
        "width": 0.8,
        "x": 0.1,
        "y": 0.1
       },
       "content": {
        "cell": "f8b52b9c-a323-4dbe-a3ee-ec2a34663b41",
        "part": "whole"
       },
       "id": "f1d86779-5848-4931-8e6f-79083c50dadb"
      }
     }
    },
    "5c1220a7-5e2a-427d-973c-44e3c83834c4": {
     "id": "5c1220a7-5e2a-427d-973c-44e3c83834c4",
     "prev": "9b790a10-b8f8-469c-a8fe-5a0a0818967f",
     "regions": {
      "30b9195a-dd5b-40b7-a6eb-8e6fd70a0914": {
       "attrs": {
        "height": 0.8,
        "width": 0.8,
        "x": 0.1,
        "y": 0.1
       },
       "content": {
        "cell": "8262e7de-cec7-4dcf-a6d2-bf4c02659f67",
        "part": "whole"
       },
       "id": "30b9195a-dd5b-40b7-a6eb-8e6fd70a0914"
      }
     }
    },
    "612b09ff-9d44-4c7b-ba8e-c171608afdb1": {
     "id": "612b09ff-9d44-4c7b-ba8e-c171608afdb1",
     "prev": "8d42d430-f151-4bba-a400-3329445a62d2",
     "regions": {
      "6fdb4f23-18e1-478e-9372-4ae03ac67ecc": {
       "attrs": {
        "height": 0.8,
        "width": 0.8,
        "x": 0.1,
        "y": 0.1
       },
       "content": {
        "cell": "90d3e9dd-a7a8-42ee-84db-82dcfc60587a",
        "part": "whole"
       },
       "id": "6fdb4f23-18e1-478e-9372-4ae03ac67ecc"
      }
     }
    },
    "6656f54d-bcfa-481c-a895-a6cdbf3013a3": {
     "id": "6656f54d-bcfa-481c-a895-a6cdbf3013a3",
     "prev": "d7c84ec1-4c6a-4622-b2a0-b8821ab31851",
     "regions": {
      "683009f7-9a29-44f5-9f3d-2cc89ff89155": {
       "attrs": {
        "height": 0.8,
        "width": 0.8,
        "x": 0.1,
        "y": 0.1
       },
       "content": {
        "cell": "ba52e85e-313f-431a-9418-a3ce8c003d8c",
        "part": "whole"
       },
       "id": "683009f7-9a29-44f5-9f3d-2cc89ff89155"
      }
     }
    },
    "687e070a-1610-4cbb-aea3-702a33735059": {
     "id": "687e070a-1610-4cbb-aea3-702a33735059",
     "prev": null,
     "regions": {
      "4d76b68f-379b-4d09-8fcc-eafb3bdad702": {
       "attrs": {
        "height": 0.8,
        "width": 0.8,
        "x": 0.1,
        "y": 0.1
       },
       "content": {
        "cell": "65576d12-7eb3-4a8b-80e6-752ed233f293",
        "part": "whole"
       },
       "id": "4d76b68f-379b-4d09-8fcc-eafb3bdad702"
      }
     }
    },
    "74012632-90f7-454f-a0cc-b3ec488e773b": {
     "id": "74012632-90f7-454f-a0cc-b3ec488e773b",
     "prev": "8f1eeec1-e1bc-4ed6-a57e-59e51a81830e",
     "regions": {
      "ca37cb00-4041-4a71-8b62-9c4bfdd17511": {
       "attrs": {
        "height": 0.8,
        "width": 0.8,
        "x": 0.1,
        "y": 0.1
       },
       "content": {
        "cell": "4ddb0827-e782-451c-addb-87a9a1f4dc27",
        "part": "whole"
       },
       "id": "ca37cb00-4041-4a71-8b62-9c4bfdd17511"
      }
     }
    },
    "756b8e27-7157-436b-a284-ced246b4ab46": {
     "id": "756b8e27-7157-436b-a284-ced246b4ab46",
     "prev": "0dffd81a-8974-43f1-bd1a-6b4efb975e3c",
     "regions": {
      "0843af02-5b15-422c-9651-49297de2d872": {
       "attrs": {
        "height": 0.8,
        "width": 0.8,
        "x": 0.1,
        "y": 0.1
       },
       "content": {
        "cell": "14df1ce6-b858-46a5-a242-eca37d805c56",
        "part": "whole"
       },
       "id": "0843af02-5b15-422c-9651-49297de2d872"
      }
     }
    },
    "7739b565-c974-402c-a8ba-676d492e8fc9": {
     "id": "7739b565-c974-402c-a8ba-676d492e8fc9",
     "prev": "b5eefc60-5c6a-4d92-811c-38ee455bf213",
     "regions": {
      "6542b104-9007-41ac-8d93-94b7d5a1e39d": {
       "attrs": {
        "height": 0.8,
        "width": 0.8,
        "x": 0.1,
        "y": 0.1
       },
       "content": {
        "cell": "4711e785-b310-4727-a66a-c3fa84d536b4",
        "part": "whole"
       },
       "id": "6542b104-9007-41ac-8d93-94b7d5a1e39d"
      }
     }
    },
    "79a08213-39ce-4f07-9338-0a665c96ac9c": {
     "id": "79a08213-39ce-4f07-9338-0a665c96ac9c",
     "prev": "7b02cdc0-1ccb-48c5-9fee-935d3a0c05ce",
     "regions": {
      "5dbfc544-8283-4fa7-8ed0-8561ae72dba4": {
       "attrs": {
        "height": 0.8,
        "width": 0.8,
        "x": 0.1,
        "y": 0.1
       },
       "content": {
        "cell": "cb5b4ace-9612-416b-9d5f-87a077374d99",
        "part": "whole"
       },
       "id": "5dbfc544-8283-4fa7-8ed0-8561ae72dba4"
      }
     }
    },
    "7b02cdc0-1ccb-48c5-9fee-935d3a0c05ce": {
     "id": "7b02cdc0-1ccb-48c5-9fee-935d3a0c05ce",
     "prev": "317233c4-f88b-41e2-8e06-353d65532dc4",
     "regions": {
      "5b7357af-1eaa-49c3-a730-8d83df969031": {
       "attrs": {
        "height": 0.8,
        "width": 0.8,
        "x": 0.1,
        "y": 0.1
       },
       "content": {
        "cell": "ef7dfcac-7d47-4345-b0d1-9afd0546f950",
        "part": "whole"
       },
       "id": "5b7357af-1eaa-49c3-a730-8d83df969031"
      }
     }
    },
    "86153117-e3f9-44d5-927f-11c96f8bc750": {
     "id": "86153117-e3f9-44d5-927f-11c96f8bc750",
     "prev": "92f71f82-9cb4-4594-abd4-b8ab48a77e07",
     "regions": {
      "c0797624-0c6d-4ec8-a695-fde96df1c7f2": {
       "attrs": {
        "height": 0.8,
        "width": 0.8,
        "x": 0.1,
        "y": 0.1
       },
       "content": {
        "cell": "a0b4e7de-7acc-41ad-a5a0-1c8b2bfd959f",
        "part": "whole"
       },
       "id": "c0797624-0c6d-4ec8-a695-fde96df1c7f2"
      }
     }
    },
    "8d42d430-f151-4bba-a400-3329445a62d2": {
     "id": "8d42d430-f151-4bba-a400-3329445a62d2",
     "prev": "74012632-90f7-454f-a0cc-b3ec488e773b",
     "regions": {
      "e7f64c5d-cf3f-42ea-9feb-805559cf1311": {
       "attrs": {
        "height": 0.8,
        "width": 0.8,
        "x": 0.1,
        "y": 0.1
       },
       "content": {
        "cell": "efe4e10a-1346-4702-8791-502aa11c1435",
        "part": "whole"
       },
       "id": "e7f64c5d-cf3f-42ea-9feb-805559cf1311"
      }
     }
    },
    "8f1eeec1-e1bc-4ed6-a57e-59e51a81830e": {
     "id": "8f1eeec1-e1bc-4ed6-a57e-59e51a81830e",
     "prev": "10b447d8-59c0-4269-99c4-f6a1dd1a9721",
     "regions": {
      "0ae36b72-f250-40c9-a1d7-4735098f9886": {
       "attrs": {
        "height": 0.8,
        "width": 0.8,
        "x": 0.1,
        "y": 0.1
       },
       "content": {
        "cell": "acb0558e-02fe-4bae-a9cf-517ad479b992",
        "part": "whole"
       },
       "id": "0ae36b72-f250-40c9-a1d7-4735098f9886"
      }
     }
    },
    "8f29febf-b017-4fcf-b4dc-1618b22a9a28": {
     "id": "8f29febf-b017-4fcf-b4dc-1618b22a9a28",
     "prev": "208fbb63-d1f2-4c22-a482-5a201c1be328",
     "regions": {
      "899b4c86-1386-45a4-b6f4-930b7f0f279a": {
       "attrs": {
        "height": 0.8,
        "width": 0.8,
        "x": 0.1,
        "y": 0.1
       },
       "content": {
        "cell": "b8ab0024-eda0-4257-a96f-a484755427a6",
        "part": "whole"
       },
       "id": "899b4c86-1386-45a4-b6f4-930b7f0f279a"
      }
     }
    },
    "92f71f82-9cb4-4594-abd4-b8ab48a77e07": {
     "id": "92f71f82-9cb4-4594-abd4-b8ab48a77e07",
     "prev": "612b09ff-9d44-4c7b-ba8e-c171608afdb1",
     "regions": {
      "0f2eac9a-5d30-450e-8ce7-98d3f58e1a3f": {
       "attrs": {
        "height": 0.8,
        "width": 0.8,
        "x": 0.1,
        "y": 0.1
       },
       "content": {
        "cell": "205a5732-278d-4209-874b-e0d52e869906",
        "part": "whole"
       },
       "id": "0f2eac9a-5d30-450e-8ce7-98d3f58e1a3f"
      }
     }
    },
    "9b790a10-b8f8-469c-a8fe-5a0a0818967f": {
     "id": "9b790a10-b8f8-469c-a8fe-5a0a0818967f",
     "prev": "d1d04979-5c70-4147-b68e-d73313256560",
     "regions": {
      "feff6f38-a426-4763-ae6a-0d361bd6461c": {
       "attrs": {
        "height": 0.8,
        "width": 0.8,
        "x": 0.1,
        "y": 0.1
       },
       "content": {
        "cell": "19af9674-a158-43e6-a794-cfc65211637d",
        "part": "whole"
       },
       "id": "feff6f38-a426-4763-ae6a-0d361bd6461c"
      }
     }
    },
    "9bc0c8e1-1b67-468c-819a-e01f23ad5b63": {
     "id": "9bc0c8e1-1b67-468c-819a-e01f23ad5b63",
     "prev": "a54f7bdd-c581-4e16-9087-a06e640c8d83",
     "regions": {
      "f8590037-169d-4676-a5d8-1d92793cd507": {
       "attrs": {
        "height": 0.8,
        "width": 0.8,
        "x": 0.1,
        "y": 0.1
       },
       "content": {
        "cell": "4863dd60-386b-4511-a15b-ac10da1c344d",
        "part": "whole"
       },
       "id": "f8590037-169d-4676-a5d8-1d92793cd507"
      }
     }
    },
    "9c70ee2e-1ec6-4e3b-90c2-15bfbba4b179": {
     "id": "9c70ee2e-1ec6-4e3b-90c2-15bfbba4b179",
     "prev": "6656f54d-bcfa-481c-a895-a6cdbf3013a3",
     "regions": {
      "df21948b-ec7f-4abd-8417-481a7250fee8": {
       "attrs": {
        "height": 0.8,
        "width": 0.8,
        "x": 0.1,
        "y": 0.1
       },
       "content": {
        "cell": "96cb39b8-ac3a-4dea-8d9c-55bec710ddcf",
        "part": "whole"
       },
       "id": "df21948b-ec7f-4abd-8417-481a7250fee8"
      }
     }
    },
    "a54f7bdd-c581-4e16-9087-a06e640c8d83": {
     "id": "a54f7bdd-c581-4e16-9087-a06e640c8d83",
     "prev": "26460fd8-4379-4de4-9c4c-f1a2eb48f3cb",
     "regions": {
      "ddf25861-2d41-462f-9645-c5efc4955ba0": {
       "attrs": {
        "height": 0.8,
        "width": 0.8,
        "x": 0.1,
        "y": 0.1
       },
       "content": {
        "cell": "a1b23f85-8c0b-4645-bb20-cd2dbf4ae008",
        "part": "whole"
       },
       "id": "ddf25861-2d41-462f-9645-c5efc4955ba0"
      }
     }
    },
    "aab17e6c-ff35-4afb-973e-764076ca8ca5": {
     "id": "aab17e6c-ff35-4afb-973e-764076ca8ca5",
     "prev": "86153117-e3f9-44d5-927f-11c96f8bc750",
     "regions": {
      "62e38f25-1cee-49b1-9a31-1a31d60de78a": {
       "attrs": {
        "height": 0.8,
        "width": 0.8,
        "x": 0.1,
        "y": 0.1
       },
       "content": {
        "cell": "15b9b170-9f7d-4f35-98ca-e1649680fd49",
        "part": "whole"
       },
       "id": "62e38f25-1cee-49b1-9a31-1a31d60de78a"
      }
     }
    },
    "b5eefc60-5c6a-4d92-811c-38ee455bf213": {
     "id": "b5eefc60-5c6a-4d92-811c-38ee455bf213",
     "prev": "5c1220a7-5e2a-427d-973c-44e3c83834c4",
     "regions": {
      "23d11ac4-8935-45dc-9747-0972f5aea9dc": {
       "attrs": {
        "height": 0.8,
        "width": 0.8,
        "x": 0.1,
        "y": 0.1
       },
       "content": {
        "cell": "e7b5a252-3ead-4126-a23f-a0162107a14d",
        "part": "whole"
       },
       "id": "23d11ac4-8935-45dc-9747-0972f5aea9dc"
      }
     }
    },
    "bb6424ae-9225-4ee1-86c3-8d3417a39a19": {
     "id": "bb6424ae-9225-4ee1-86c3-8d3417a39a19",
     "prev": "d69ad92d-7635-4bd1-a4c6-d152c22e1530",
     "regions": {
      "4ca938cd-0edf-4a48-aa11-fbafdad4479a": {
       "attrs": {
        "height": 0.8,
        "width": 0.8,
        "x": 0.1,
        "y": 0.1
       },
       "content": {
        "cell": "92b18ba7-dc05-45bd-9460-e01f11f1b53a",
        "part": "whole"
       },
       "id": "4ca938cd-0edf-4a48-aa11-fbafdad4479a"
      }
     }
    },
    "c6c98c7e-e425-47b9-9087-336fcc5afe63": {
     "id": "c6c98c7e-e425-47b9-9087-336fcc5afe63",
     "prev": "687e070a-1610-4cbb-aea3-702a33735059",
     "regions": {
      "ec89f9de-f8db-41cd-9a34-b8935c456af6": {
       "attrs": {
        "height": 0.8,
        "width": 0.8,
        "x": 0.1,
        "y": 0.1
       },
       "content": {
        "cell": "1863763d-ba53-44e3-b2d7-a3359c562cff",
        "part": "whole"
       },
       "id": "ec89f9de-f8db-41cd-9a34-b8935c456af6"
      }
     }
    },
    "d1d04979-5c70-4147-b68e-d73313256560": {
     "id": "d1d04979-5c70-4147-b68e-d73313256560",
     "prev": "0a2ba07d-9ade-45f9-8380-adfcff418131",
     "regions": {
      "c003116e-0b9d-452e-b5b2-983a26f4cf82": {
       "attrs": {
        "height": 0.8,
        "width": 0.8,
        "x": 0.1,
        "y": 0.1
       },
       "content": {
        "cell": "f3a9e13f-32f0-46d0-8d0e-87247de97afa",
        "part": "whole"
       },
       "id": "c003116e-0b9d-452e-b5b2-983a26f4cf82"
      }
     }
    },
    "d69ad92d-7635-4bd1-a4c6-d152c22e1530": {
     "id": "d69ad92d-7635-4bd1-a4c6-d152c22e1530",
     "prev": "4b6b657b-c185-4679-86b8-05d50b88282f",
     "regions": {
      "945336df-31fb-46d6-8e62-5dc4a7c8c58c": {
       "attrs": {
        "height": 0.8,
        "width": 0.8,
        "x": 0.1,
        "y": 0.1
       },
       "content": {
        "cell": "31eb87ea-1f0a-436a-8640-05e9a008a6a4",
        "part": "whole"
       },
       "id": "945336df-31fb-46d6-8e62-5dc4a7c8c58c"
      }
     }
    },
    "d7c84ec1-4c6a-4622-b2a0-b8821ab31851": {
     "id": "d7c84ec1-4c6a-4622-b2a0-b8821ab31851",
     "prev": "3ea47fdc-b607-46b4-aa68-d3a8ef9472f9",
     "regions": {
      "9e1e88ea-dfe6-44eb-807b-3c58b60e5f6d": {
       "attrs": {
        "height": 0.8,
        "width": 0.8,
        "x": 0.1,
        "y": 0.1
       },
       "content": {
        "cell": "b5beb401-020e-428f-a17b-15277e4fdd96",
        "part": "whole"
       },
       "id": "9e1e88ea-dfe6-44eb-807b-3c58b60e5f6d"
      }
     }
    },
    "ded4f69e-428b-4105-9139-7ecb6bf864ad": {
     "id": "ded4f69e-428b-4105-9139-7ecb6bf864ad",
     "prev": "bb6424ae-9225-4ee1-86c3-8d3417a39a19",
     "regions": {
      "fb220bac-752f-493c-9fe1-4819f3ebad3f": {
       "attrs": {
        "height": 0.8,
        "width": 0.8,
        "x": 0.1,
        "y": 0.1
       },
       "content": {
        "cell": "8c5a7a17-5587-48aa-905c-34762dc61380",
        "part": "whole"
       },
       "id": "fb220bac-752f-493c-9fe1-4819f3ebad3f"
      }
     }
    },
    "e8718bd2-e790-49ad-a97a-27f2fcf59284": {
     "id": "e8718bd2-e790-49ad-a97a-27f2fcf59284",
     "prev": "79a08213-39ce-4f07-9338-0a665c96ac9c",
     "regions": {
      "68d7063b-915b-40f3-8ef9-88a88fb18fb9": {
       "attrs": {
        "height": 0.8,
        "width": 0.8,
        "x": 0.1,
        "y": 0.1
       },
       "content": {
        "cell": "e4caec7b-ca44-4680-8653-d2f80f48b5c6",
        "part": "whole"
       },
       "id": "68d7063b-915b-40f3-8ef9-88a88fb18fb9"
      }
     }
    }
   },
   "themes": {}
  }
 },
 "nbformat": 4,
 "nbformat_minor": 1
}
