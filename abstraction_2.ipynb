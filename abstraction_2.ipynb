{
 "cells": [
  {
   "cell_type": "markdown",
   "metadata": {},
   "source": [
    "# Architectual reconstruction tools"
   ]
  },
  {
   "cell_type": "markdown",
   "metadata": {},
   "source": [
    "## Data gathering"
   ]
  },
  {
   "cell_type": "code",
   "execution_count": 1,
   "metadata": {},
   "outputs": [],
   "source": [
    "# change to point to the right folder on your mahchine where you cloned the Zeeguu-Core\n",
    "CODE_ROOT_FOLDER = '/Users/egh/Zeeguu-Core/zeeguu_core'\n",
    "\n",
    "# And a helper function to construct\n",
    "# the full path of a file by adding the CODE_ROOT_FOLDER\n",
    "\n",
    "def full_path(file_name):\n",
    "    return CODE_ROOT_FOLDER+file_name"
   ]
  },
  {
   "cell_type": "code",
   "execution_count": 2,
   "metadata": {},
   "outputs": [],
   "source": [
    "import sys\n",
    "import pathlib\n",
    "from pathlib import Path\n",
    "import re\n",
    "import networkx as nx\n",
    "import matplotlib.pyplot as plt"
   ]
  },
  {
   "cell_type": "code",
   "execution_count": 3,
   "metadata": {},
   "outputs": [],
   "source": [
    "def LOC(file):\n",
    "    return sum([1 for line in open(file)])"
   ]
  },
  {
   "cell_type": "markdown",
   "metadata": {},
   "source": []
  },
  {
   "cell_type": "code",
   "execution_count": null,
   "metadata": {},
   "outputs": [],
   "source": []
  },
  {
   "cell_type": "markdown",
   "metadata": {},
   "source": [
    "### Draw dependency graph from imports"
   ]
  },
  {
   "cell_type": "code",
   "execution_count": 4,
   "metadata": {},
   "outputs": [
    {
     "name": "stdout",
     "output_type": "stream",
     "text": [
      "5582 model\n",
      "1097 language\n",
      "985 word_scheduling\n",
      "341 content_recommender\n",
      "311 content_retriever\n",
      "192 util\n",
      "161 bookmark_quality\n",
      "87 emailer\n",
      "65 configuration\n",
      "20 definition_of_learned\n",
      "0 constants.py\n",
      "0 __init__.py\n",
      "0 __pycache__\n"
     ]
    }
   ],
   "source": [
    "# find loc in each folder\n",
    "import os\n",
    "\n",
    "directory_contents = os.listdir(CODE_ROOT_FOLDER);\n",
    "\n",
    "dirs_and_LOCs = []\n",
    "\n",
    "for dir in directory_contents:\n",
    "    inc = 0;\n",
    "    for file in Path(CODE_ROOT_FOLDER + \"/\" + dir).rglob(\"*.py\"):\n",
    "        inc += LOC(str(file))\n",
    "\n",
    "    dirs_and_LOCs.append(\n",
    "        ((inc), str(dir)))\n",
    "\n",
    "dirs_and_LOCs.sort(key = lambda x: -x[0])\n",
    "for each in dirs_and_LOCs:\n",
    "    print (str(each[0]) + \" \" + str(each [1]))"
   ]
  },
  {
   "cell_type": "code",
   "execution_count": null,
   "metadata": {},
   "outputs": [],
   "source": []
  },
  {
   "cell_type": "code",
   "execution_count": 5,
   "metadata": {},
   "outputs": [],
   "source": [
    "def extract_import_from_line(line):\n",
    "    # TODO: think about how to detect imports when\n",
    "    # they are inside a function / method\n",
    "    x = re.search(\"^import zeeguu_core.(\\S+)\", line) \n",
    "    x = re.search(\"^from zeeguu_core import (\\S+)\", line)\n",
    "    return x.group(1)"
   ]
  },
  {
   "cell_type": "code",
   "execution_count": 6,
   "metadata": {},
   "outputs": [],
   "source": [
    "def imports(file):\n",
    "    # extracts all the imported modules from a file\n",
    "    lines = [line for line in open(file)]\n",
    "    \n",
    "    all_imports = []\n",
    "    for line in lines:\n",
    "        try:\n",
    "            all_imports.append(extract_import_from_line(line))\n",
    "        except:\n",
    "            continue\n",
    "\n",
    "    return all_imports\n",
    "\n",
    "#assert \"sqlalchemy\" in imports(full_path('zeeguu_core/model/user.py'))"
   ]
  },
  {
   "cell_type": "code",
   "execution_count": 7,
   "metadata": {},
   "outputs": [],
   "source": [
    "def module_from_file_path(folder_prefix, full_path):\n",
    "    # extracting a module from a file name\n",
    "    # e.g. /Users/mircea/Zeeguu-Core/zeeguu_core/model/user.py -> zeeguu_core.model.user\n",
    "    \n",
    "    file_name = full_path[len(folder_prefix):]\n",
    "    file_name = file_name.replace(\"/\",\".\")\n",
    "    file_name = file_name.replace(\".py\",\"\")\n",
    "    return file_name\n",
    "\n",
    "def module(full_path):\n",
    "    return module_from_file_path(CODE_ROOT_FOLDER, full_path)\n",
    "\n",
    "assert 'zeeguu_core.model.user' == module(full_path('zeeguu_core/model/user.py'))"
   ]
  },
  {
   "cell_type": "code",
   "execution_count": 8,
   "metadata": {},
   "outputs": [],
   "source": [
    "def dependencies_graph():\n",
    "    files = Path(CODE_ROOT_FOLDER).rglob(\"*.py\")\n",
    "\n",
    "    G = nx.Graph()\n",
    "\n",
    "    for file in files:\n",
    "        m = module(str(file))\n",
    "        if m not in G.nodes:\n",
    "            G.add_node(m)\n",
    "\n",
    "        for each in imports(str(file)):\n",
    "            G.add_edge(m, each)\n",
    "\n",
    "    return G"
   ]
  },
  {
   "cell_type": "code",
   "execution_count": 9,
   "metadata": {},
   "outputs": [],
   "source": [
    "def draw_graph(G):\n",
    "    plt.figure(figsize=(10,6))\n",
    "    nx.draw(G)\n",
    "    plt.show()"
   ]
  },
  {
   "cell_type": "code",
   "execution_count": 10,
   "metadata": {},
   "outputs": [
    {
     "data": {
      "image/png": "[encoded data removed]",
      "text/plain": [
       "<Figure size 720x432 with 1 Axes>"
      ]
     },
     "metadata": {},
     "output_type": "display_data"
    }
   ],
   "source": [
    "G = dependencies_graph()\n",
    "draw_graph(G)"
   ]
  },
  {
   "cell_type": "markdown",
   "metadata": {},
   "source": [
    "## Basic Abstraction\n",
    "\n",
    "### Aggregating Dependencies\n"
   ]
  },
  {
   "cell_type": "code",
   "execution_count": 11,
   "metadata": {},
   "outputs": [],
   "source": [
    "def top_level_module(module_name, depth=1):\n",
    "    # extracts the parent of depth X \n",
    "    # e.g. top_level_module(zeeguu_core.model.util, 1) -> zeeguu_core\n",
    "    components = module_name.split(\".\")\n",
    "    return \".\".join(components[:depth])\n",
    "\n",
    "assert (top_level_module(\"zeeguu_core.model.util\") == \"zeeguu_core\")\n",
    "assert (top_level_module(\"zeeguu_core.model.util\", 2) == \"zeeguu_core.model\")"
   ]
  },
  {
   "cell_type": "code",
   "execution_count": 12,
   "metadata": {},
   "outputs": [],
   "source": [
    "def abstracted_to_top_level(G):\n",
    "    aG = nx.Graph()\n",
    "    for each in G.edges():\n",
    "        aG.add_edge(top_level_module(each[0]),\n",
    "                    top_level_module(each[1]))\n",
    "    return aG"
   ]
  },
  {
   "cell_type": "code",
   "execution_count": 13,
   "metadata": {},
   "outputs": [],
   "source": [
    "def draw_graph_with_labels(G, figsize=(20,20)):\n",
    "    plt.figure(figsize=figsize)\n",
    "    nx.draw(G,with_labels=True, font_size=40)\n",
    "    plt.show()"
   ]
  },
  {
   "cell_type": "code",
   "execution_count": 14,
   "metadata": {},
   "outputs": [
    {
     "data": {
      "image/png": "[encoded data removed]",
      "text/plain": [
       "<Figure size 1440x1296 with 1 Axes>"
      ]
     },
     "metadata": {},
     "output_type": "display_data"
    }
   ],
   "source": [
    "G = dependencies_graph()\n",
    "aG = abstracted_to_top_level(G)\n",
    "draw_graph_with_labels(aG, (20,18))"
   ]
  },
  {
   "cell_type": "markdown",
   "metadata": {},
   "source": [
    "## Distinguishing System Modules "
   ]
  },
  {
   "cell_type": "code",
   "execution_count": 15,
   "metadata": {},
   "outputs": [],
   "source": [
    "\n",
    "def system_module(m):\n",
    "    return m.startswith('zeeguu')"
   ]
  },
  {
   "cell_type": "code",
   "execution_count": 16,
   "metadata": {},
   "outputs": [],
   "source": [
    "def abstracted_to_top_level(G):\n",
    "    aG = nx.Graph()\n",
    "    for each in G.edges():\n",
    "        source = top_level_module(each[0])\n",
    "        destination = top_level_module(each[1])\n",
    "        if system_module(source) and system_module(destination):\n",
    "            aG.add_edge(source, destination)\n",
    "    return aG"
   ]
  },
  {
   "cell_type": "code",
   "execution_count": 17,
   "metadata": {},
   "outputs": [
    {
     "data": {
      "image/png": "[encoded data removed]",
      "text/plain": [
       "<Figure size 360x360 with 1 Axes>"
      ]
     },
     "metadata": {},
     "output_type": "display_data"
    }
   ],
   "source": [
    "G = dependencies_graph()\n",
    "aG = abstracted_to_top_level(G)\n",
    "draw_graph_with_labels(aG, (5,5))"
   ]
  },
  {
   "cell_type": "markdown",
   "metadata": {},
   "source": [
    "## But Dependencies Have Directions...\n",
    "\n"
   ]
  },
  {
   "cell_type": "code",
   "execution_count": 18,
   "metadata": {},
   "outputs": [],
   "source": [
    "def dependencies_graph():\n",
    "    files = Path(CODE_ROOT_FOLDER).rglob(\"*.py\")\n",
    "\n",
    "    G = nx.DiGraph()\n",
    "\n",
    "    for file in files:\n",
    "        m = module(str(file))\n",
    "        if m not in G.nodes:\n",
    "            G.add_node(m)\n",
    "\n",
    "        for each in imports(str(file)):\n",
    "            G.add_edge(m, each)\n",
    "\n",
    "    return G"
   ]
  },
  {
   "cell_type": "code",
   "execution_count": 19,
   "metadata": {},
   "outputs": [],
   "source": [
    "def abstracted_to_top_level(G):\n",
    "    aG = nx.DiGraph()\n",
    "    for each in G.edges():\n",
    "        source = top_level_module(each[0])\n",
    "        destination = top_level_module(each[1])\n",
    "        if system_module(source) and system_module(destination):\n",
    "            aG.add_edge(source, destination)\n",
    "    return aG"
   ]
  },
  {
   "cell_type": "code",
   "execution_count": 20,
   "metadata": {},
   "outputs": [
    {
     "data": {
      "image/png": "[encoded data removed]",
      "text/plain": [
       "<Figure size 216x216 with 1 Axes>"
      ]
     },
     "metadata": {},
     "output_type": "display_data"
    }
   ],
   "source": [
    "directed = dependencies_graph()\n",
    "directedAbstracted = abstracted_to_top_level(directed)\n",
    "draw_graph_with_labels(directedAbstracted, (3,3))"
   ]
  },
  {
   "cell_type": "markdown",
   "metadata": {},
   "source": [
    "### Oooops. Something unexpected ... \n",
    "Core **should not** depend on API\n"
   ]
  },
  {
   "cell_type": "markdown",
   "metadata": {},
   "source": [
    "## Mapping other modules that we know are part of the system... e.g. tools"
   ]
  },
  {
   "cell_type": "code",
   "execution_count": 21,
   "metadata": {},
   "outputs": [],
   "source": [
    "def system_module(m):\n",
    "    return m.startswith('zeeguu') or m=='tools' or m=='playground'"
   ]
  },
  {
   "cell_type": "code",
   "execution_count": 22,
   "metadata": {},
   "outputs": [
    {
     "data": {
      "image/png": "[encoded data removed]",
      "text/plain": [
       "<Figure size 432x288 with 1 Axes>"
      ]
     },
     "metadata": {},
     "output_type": "display_data"
    }
   ],
   "source": [
    "directed = dependencies_graph()\n",
    "directedAbstracted = abstracted_to_top_level(directed)\n",
    "draw_graph_with_labels(directedAbstracted, (6,4))"
   ]
  },
  {
   "cell_type": "markdown",
   "metadata": {},
   "source": [
    "# 2. Basic Presentation\n",
    "\n",
    "### Remember the Definition of Architecture\n",
    "- includes properties of modules\n"
   ]
  },
  {
   "cell_type": "code",
   "execution_count": 23,
   "metadata": {},
   "outputs": [
    {
     "data": {
      "text/plain": [
       "0"
      ]
     },
     "execution_count": 23,
     "metadata": {},
     "output_type": "execute_result"
    }
   ],
   "source": [
    "def module_size(m):\n",
    "    size = 0\n",
    "    files = Path(CODE_ROOT_FOLDER).rglob(\"*.py\")\n",
    "    for file in files:\n",
    "        module_name = module(str(file))\n",
    "        if module_name.startswith(m + '.'):\n",
    "            size += LOC(str(file))\n",
    "            \n",
    "    return size\n",
    "\n",
    "module_size(\"zeeguu_core\")\n",
    "module_size(\"zeeguu_core_test\")\n",
    "module_size(\"zeeguu_api\")"
   ]
  },
  {
   "cell_type": "code",
   "execution_count": 24,
   "metadata": {},
   "outputs": [],
   "source": [
    "def draw_graph_with_weights(G, weight_function, figsize=(10,10)):\n",
    "    \n",
    "    node_weights = [weight_function(each) for each in G.nodes]\n",
    "    \n",
    "    plt.figure(figsize=figsize)\n",
    "    nx.draw(G,\n",
    "            with_labels=True,\n",
    "            node_size=node_weights)\n",
    "    plt.show()"
   ]
  },
  {
   "cell_type": "code",
   "execution_count": 25,
   "metadata": {},
   "outputs": [
    {
     "data": {
      "image/png": "[encoded data removed]",
      "text/plain": [
       "<Figure size 432x288 with 1 Axes>"
      ]
     },
     "metadata": {},
     "output_type": "display_data"
    }
   ],
   "source": [
    "directed = dependencies_graph()\n",
    "directedAbstracted = abstracted_to_top_level(directed)\n",
    "draw_graph_with_weights(directedAbstracted, module_size, (6,4))"
   ]
  },
  {
   "cell_type": "markdown",
   "metadata": {},
   "source": [
    "## What did we learn? \n",
    "\n",
    "  - external dependencies (3rd party modules) can be filtered to remove noise\n",
    "  - directed dependencies provide extra information\n",
    "  - filtering system modules \n",
    "  - mapping metrics when visualizing increases the expressivity of the views\n",
    "  - module views allow the detection of misdirected dependencies\n",
    "\n",
    "\n"
   ]
  },
  {
   "cell_type": "markdown",
   "metadata": {},
   "source": [
    "## Importance of Dependencies\n",
    "\n",
    "\n",
    "To tell *the story of this view* we need nouns and verbs:\n",
    "  - nouns are the nodes\n",
    "  - verbs are the dependencies\n",
    "    - what is the meaning of each \n",
    "    - how \"strong\" is it\n"
   ]
  },
  {
   "cell_type": "markdown",
   "metadata": {},
   "source": [
    "## Discussion & Lessons Learned\n",
    "- Semi-automatic solutions are most of the times required\n",
    "  - full automation with clustering\n",
    "     - has been tried with \n",
    "       - coupling cohesion\n",
    "       - natural language analysis\n",
    "  - even in the case of clustering we still need human intervention\n",
    "  \n",
    "\n",
    "- The difference between this and a hand-drawn UML diagram? \n",
    "  - what we created today is always telling the truth\n",
    "  - but, maybe not *all* the truth? \n",
    "  - and not *always* the truth?\n",
    "    \n",
    "\n"
   ]
  },
  {
   "cell_type": "markdown",
   "metadata": {},
   "source": [
    "## For your projects\n",
    "- draw the architecture of the zeeguu_core itself!\n",
    "  - this is where most of the functionality seems to be found\n",
    "  - all the other modules depend on it\n",
    "  \n",
    "\n",
    "- can you explain the dependencies?\n",
    "\n",
    "\n",
    "- consider exporting the data into specialized graph visualization tools \n",
    "  - networkx [has support for this ](https://networkx.github.io/documentation/stable/reference/drawing.html)\n",
    "\n",
    "\n"
   ]
  }
 ],
 "metadata": {
  "anaconda-cloud": {},
  "kernelspec": {
   "display_name": "Python 3",
   "language": "python",
   "name": "python3"
  },
  "language_info": {
   "codemirror_mode": {
    "name": "ipython",
    "version": 3
   },
   "file_extension": ".py",
   "mimetype": "text/x-python",
   "name": "python",
   "nbconvert_exporter": "python",
   "pygments_lexer": "ipython3",
   "version": "3.7.6"
  }
 },
 "nbformat": 4,
 "nbformat_minor": 1
}
