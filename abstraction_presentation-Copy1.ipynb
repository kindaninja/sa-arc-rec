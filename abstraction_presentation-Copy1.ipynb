{
 "cells": [
  {
   "cell_type": "markdown",
   "metadata": {},
   "source": [
    "# Architectual reconstruction tools"
   ]
  },
  {
   "cell_type": "markdown",
   "metadata": {},
   "source": [
    "## Data gathering"
   ]
  },
  {
   "cell_type": "code",
   "execution_count": 1,
   "metadata": {},
   "outputs": [],
   "source": [
    "# change to point to the right folder on your mahchine where you cloned the Zeeguu-Core\n",
    "CODE_ROOT_FOLDER = '/Users/egh/Zeeguu-Core/zeeguu_core'\n",
    "\n",
    "# And a helper function to construct\n",
    "# the full path of a file by adding the CODE_ROOT_FOLDER\n",
    "\n",
    "def full_path(file_name):\n",
    "    return CODE_ROOT_FOLDER+file_name"
   ]
  },
  {
   "cell_type": "code",
   "execution_count": 2,
   "metadata": {},
   "outputs": [],
   "source": [
    "import sys\n",
    "import pathlib\n",
    "from pathlib import Path\n",
    "import re\n",
    "import networkx as nx\n",
    "import matplotlib.pyplot as plt"
   ]
  },
  {
   "cell_type": "code",
   "execution_count": 3,
   "metadata": {},
   "outputs": [],
   "source": [
    "def LOC(file):\n",
    "    return sum([1 for line in open(file)])"
   ]
  },
  {
   "cell_type": "markdown",
   "metadata": {},
   "source": [
    "### List files, sorted by lines of code"
   ]
  },
  {
   "cell_type": "code",
   "execution_count": 4,
   "metadata": {},
   "outputs": [
    {
     "name": "stdout",
     "output_type": "stream",
     "text": [
      "575 /Users/egh/Zeeguu-Core/zeeguu_core/model/user.py\n",
      "475 /Users/egh/Zeeguu-Core/zeeguu_core/word_scheduling/arts/tools/algo_parameter_approximator.py\n",
      "403 /Users/egh/Zeeguu-Core/zeeguu_core/model/user_reading_session.py\n",
      "341 /Users/egh/Zeeguu-Core/zeeguu_core/content_recommender/mixed_recommender.py\n",
      "328 /Users/egh/Zeeguu-Core/zeeguu_core/model/bookmark.py\n",
      "287 /Users/egh/Zeeguu-Core/zeeguu_core/language/strategies/word_history_difficulty_estimator.py\n",
      "280 /Users/egh/Zeeguu-Core/zeeguu_core/model/word_knowledge/word_interaction_history.py\n",
      "274 /Users/egh/Zeeguu-Core/zeeguu_core/model/article.py\n",
      "257 /Users/egh/Zeeguu-Core/zeeguu_core/model/user_activitiy_data.py\n",
      "238 /Users/egh/Zeeguu-Core/zeeguu_core/model/user_exercise_session.py\n",
      "228 /Users/egh/Zeeguu-Core/zeeguu_core/content_retriever/article_downloader.py\n",
      "226 /Users/egh/Zeeguu-Core/zeeguu_core/model/feed.py\n",
      "205 /Users/egh/Zeeguu-Core/zeeguu_core/model/user_article.py\n",
      "202 /Users/egh/Zeeguu-Core/zeeguu_core/language/strategies/cognacy_wh_difficulty_estimator.py\n",
      "161 /Users/egh/Zeeguu-Core/zeeguu_core/model/url.py\n",
      "153 /Users/egh/Zeeguu-Core/zeeguu_core/model/language.py\n",
      "146 /Users/egh/Zeeguu-Core/zeeguu_core/language/strategies/frequency_difficulty_estimator.py\n",
      "139 /Users/egh/Zeeguu-Core/zeeguu_core/language/strategies/cognacy_difficulty_estimator.py\n",
      "133 /Users/egh/Zeeguu-Core/zeeguu_core/word_scheduling/arts/bookmark_priority_updater.py\n",
      "129 /Users/egh/Zeeguu-Core/zeeguu_core/model/user_preference.py\n",
      "120 /Users/egh/Zeeguu-Core/zeeguu_core/language/strategies/word_rank_difficulty_estimator.py\n",
      "114 /Users/egh/Zeeguu-Core/zeeguu_core/language/strategies/flesch_kincaid_difficulty_estimator.py\n",
      "111 /Users/egh/Zeeguu-Core/zeeguu_core/model/starred_article.py\n",
      "108 /Users/egh/Zeeguu-Core/zeeguu_core/model/text.py\n",
      "101 /Users/egh/Zeeguu-Core/zeeguu_core/model/user_language.py\n",
      "101 /Users/egh/Zeeguu-Core/zeeguu_core/model/user_word.py\n",
      "94 /Users/egh/Zeeguu-Core/zeeguu_core/model/learner_stats/encounter_stats.py\n",
      "89 /Users/egh/Zeeguu-Core/zeeguu_core/model/exercise.py\n",
      "88 /Users/egh/Zeeguu-Core/zeeguu_core/model/__init__.py\n",
      "86 /Users/egh/Zeeguu-Core/zeeguu_core/model/session.py\n",
      "84 /Users/egh/Zeeguu-Core/zeeguu_core/model/exercise_outcome.py\n",
      "82 /Users/egh/Zeeguu-Core/zeeguu_core/model/articles_cache.py\n",
      "80 /Users/egh/Zeeguu-Core/zeeguu_core/model/article_word.py\n",
      "78 /Users/egh/Zeeguu-Core/zeeguu_core/model/domain_name.py\n",
      "78 /Users/egh/Zeeguu-Core/zeeguu_core/model/learner_stats/learner_stats.py\n",
      "76 /Users/egh/Zeeguu-Core/zeeguu_core/model/topic.py\n",
      "72 /Users/egh/Zeeguu-Core/zeeguu_core/model/search_filter.py\n",
      "72 /Users/egh/Zeeguu-Core/zeeguu_core/model/topic_filter.py\n",
      "71 /Users/egh/Zeeguu-Core/zeeguu_core/model/cohort.py\n",
      "71 /Users/egh/Zeeguu-Core/zeeguu_core/model/SortedExerciseLog.py\n",
      "71 /Users/egh/Zeeguu-Core/zeeguu_core/model/search_subscription.py\n",
      "71 /Users/egh/Zeeguu-Core/zeeguu_core/model/topic_subscription.py\n",
      "70 /Users/egh/Zeeguu-Core/zeeguu_core/model/feed_registrations.py\n",
      "68 /Users/egh/Zeeguu-Core/zeeguu_core/util/text.py\n",
      "65 /Users/egh/Zeeguu-Core/zeeguu_core/model/search.py\n",
      "65 /Users/egh/Zeeguu-Core/zeeguu_core/model/student.py\n",
      "64 /Users/egh/Zeeguu-Core/zeeguu_core/configuration/configuration.py\n",
      "62 /Users/egh/Zeeguu-Core/zeeguu_core/word_scheduling/arts/algorithm_wrapper.py\n",
      "62 /Users/egh/Zeeguu-Core/zeeguu_core/bookmark_quality/negative_qualities.py\n",
      "61 /Users/egh/Zeeguu-Core/zeeguu_core/content_retriever/quality_filter.py\n",
      "61 /Users/egh/Zeeguu-Core/zeeguu_core/model/localized_topic.py\n",
      "58 /Users/egh/Zeeguu-Core/zeeguu_core/model/smartwatch/watch_interaction_event.py\n",
      "56 /Users/egh/Zeeguu-Core/zeeguu_core/util/user_account_creation.py\n",
      "55 /Users/egh/Zeeguu-Core/zeeguu_core/word_scheduling/arts/words_to_study.py\n",
      "48 /Users/egh/Zeeguu-Core/zeeguu_core/word_scheduling/arts/ab_testing.py\n",
      "48 /Users/egh/Zeeguu-Core/zeeguu_core/word_scheduling/arts/__init__.py\n",
      "47 /Users/egh/Zeeguu-Core/zeeguu_core/emailer/zeeguu_mailer.py\n",
      "46 /Users/egh/Zeeguu-Core/zeeguu_core/model/learner_stats/exercise_stats.py\n",
      "45 /Users/egh/Zeeguu-Core/zeeguu_core/model/ranked_word.py\n",
      "44 /Users/egh/Zeeguu-Core/zeeguu_core/model/teacher_cohort_map.py\n",
      "42 /Users/egh/Zeeguu-Core/zeeguu_core/constants.py\n",
      "40 /Users/egh/Zeeguu-Core/zeeguu_core/model/exercise_source.py\n",
      "39 /Users/egh/Zeeguu-Core/zeeguu_core/word_scheduling/arts/arts_rt.py\n",
      "37 /Users/egh/Zeeguu-Core/zeeguu_core/word_scheduling/arts/experiments/arts_diff_fast.py\n",
      "37 /Users/egh/Zeeguu-Core/zeeguu_core/word_scheduling/arts/experiments/arts_diff_slow.py\n",
      "37 /Users/egh/Zeeguu-Core/zeeguu_core/bookmark_quality/positive_qualities.py\n",
      "34 /Users/egh/Zeeguu-Core/zeeguu_core/language/difficulty_estimator_strategy.py\n",
      "34 /Users/egh/Zeeguu-Core/zeeguu_core/model/learner_stats/encounter_stats_update.py\n",
      "32 /Users/egh/Zeeguu-Core/zeeguu_core/model/bookmark_priority_arts.py\n",
      "32 /Users/egh/Zeeguu-Core/zeeguu_core/model/unique_code.py\n",
      "32 /Users/egh/Zeeguu-Core/zeeguu_core/bookmark_quality/fit_for_study.py\n",
      "31 /Users/egh/Zeeguu-Core/zeeguu_core/language/difficulty_estimator_factory.py\n",
      "27 /Users/egh/Zeeguu-Core/zeeguu_core/model/teacher.py\n",
      "26 /Users/egh/Zeeguu-Core/zeeguu_core/model/smartwatch/watch_event_type.py\n",
      "26 /Users/egh/Zeeguu-Core/zeeguu_core/bookmark_quality/top_bookmarks_for_user.py\n",
      "25 /Users/egh/Zeeguu-Core/zeeguu_core/emailer/user_activity.py\n",
      "24 /Users/egh/Zeeguu-Core/zeeguu_core/util/hash.py\n",
      "24 /Users/egh/Zeeguu-Core/zeeguu_core/language/strategies/default_difficulty_estimator.py\n",
      "24 /Users/egh/Zeeguu-Core/zeeguu_core/model/cohort_article_map.py\n",
      "23 /Users/egh/Zeeguu-Core/zeeguu_core/util/encoding.py\n",
      "22 /Users/egh/Zeeguu-Core/zeeguu_core/__init__.py\n",
      "22 /Users/egh/Zeeguu-Core/zeeguu_core/content_retriever/content_cleaner.py\n",
      "19 /Users/egh/Zeeguu-Core/zeeguu_core/word_scheduling/arts/experiments/arts_random.py\n",
      "18 /Users/egh/Zeeguu-Core/zeeguu_core/definition_of_learned/is_learned.py\n",
      "16 /Users/egh/Zeeguu-Core/zeeguu_core/util/timer_logging_decorator.py\n",
      "15 /Users/egh/Zeeguu-Core/zeeguu_core/emailer/password_reset.py\n",
      "12 /Users/egh/Zeeguu-Core/zeeguu_core/word_scheduling/arts/analysis/normal_distribution.py\n",
      "10 /Users/egh/Zeeguu-Core/zeeguu_core/word_scheduling/__init__.py\n",
      "10 /Users/egh/Zeeguu-Core/zeeguu_core/word_scheduling/arts/arts_base.py\n",
      "5 /Users/egh/Zeeguu-Core/zeeguu_core/util/__init__.py\n",
      "4 /Users/egh/Zeeguu-Core/zeeguu_core/bookmark_quality/__init__.py\n",
      "2 /Users/egh/Zeeguu-Core/zeeguu_core/definition_of_learned/__init__.py\n",
      "1 /Users/egh/Zeeguu-Core/zeeguu_core/configuration/__init__.py\n",
      "0 /Users/egh/Zeeguu-Core/zeeguu_core/word_scheduling/arts/tools/__init__.py\n",
      "0 /Users/egh/Zeeguu-Core/zeeguu_core/word_scheduling/arts/analysis/__init__.py\n",
      "0 /Users/egh/Zeeguu-Core/zeeguu_core/word_scheduling/arts/experiments/__init__.py\n",
      "0 /Users/egh/Zeeguu-Core/zeeguu_core/content_recommender/__init__.py\n",
      "0 /Users/egh/Zeeguu-Core/zeeguu_core/content_retriever/__init__.py\n",
      "0 /Users/egh/Zeeguu-Core/zeeguu_core/language/__init__.py\n",
      "0 /Users/egh/Zeeguu-Core/zeeguu_core/language/strategies/__init__.py\n",
      "0 /Users/egh/Zeeguu-Core/zeeguu_core/model/learner_stats/__init__.py\n",
      "0 /Users/egh/Zeeguu-Core/zeeguu_core/model/smartwatch/__init__.py\n",
      "0 /Users/egh/Zeeguu-Core/zeeguu_core/model/word_knowledge/__init__.py\n",
      "0 /Users/egh/Zeeguu-Core/zeeguu_core/emailer/__init__.py\n"
     ]
    }
   ],
   "source": [
    "files_and_LOCs = []\n",
    "for file in Path(CODE_ROOT_FOLDER).rglob(\"*.py\"):\n",
    "    files_and_LOCs.append(\n",
    "        (LOC(str(file)),\n",
    "         str(file)\n",
    "        )\n",
    "    )\n",
    "\n",
    "files_and_LOCs.sort(key = lambda x: -x[0])\n",
    "for each in files_and_LOCs:\n",
    "    print (str(each[0]) + \" \" + str(each [1]))"
   ]
  },
  {
   "cell_type": "markdown",
   "metadata": {},
   "source": [
    "### Draw dependency graph from imports"
   ]
  },
  {
   "cell_type": "code",
   "execution_count": 29,
   "metadata": {},
   "outputs": [
    {
     "name": "stdout",
     "output_type": "stream",
     "text": [
      "5582 model\n",
      "1097 language\n",
      "985 word_scheduling\n",
      "341 content_recommender\n",
      "311 content_retriever\n",
      "192 util\n",
      "161 bookmark_quality\n",
      "87 emailer\n",
      "65 configuration\n",
      "20 definition_of_learned\n",
      "0 constants.py\n",
      "0 __init__.py\n",
      "0 __pycache__\n"
     ]
    }
   ],
   "source": [
    "# find loc in each folder\n",
    "import os\n",
    "\n",
    "directory_contents = os.listdir(CODE_ROOT_FOLDER);\n",
    "\n",
    "dirs_and_LOCs = []\n",
    "\n",
    "for dir in directory_contents:\n",
    "    inc = 0;\n",
    "    for file in Path(CODE_ROOT_FOLDER + \"/\" + dir).rglob(\"*.py\"):\n",
    "        inc += LOC(str(file))\n",
    "\n",
    "    dirs_and_LOCs.append(\n",
    "        ((inc), str(dir)))\n",
    "\n",
    "dirs_and_LOCs.sort(key = lambda x: -x[0])\n",
    "for each in dirs_and_LOCs:\n",
    "    print (str(each[0]) + \" \" + str(each [1]))"
   ]
  },
  {
   "cell_type": "code",
   "execution_count": null,
   "metadata": {},
   "outputs": [],
   "source": []
  },
  {
   "cell_type": "code",
   "execution_count": 35,
   "metadata": {},
   "outputs": [],
   "source": [
    "def extract_import_from_line(line):\n",
    "    # TODO: think about how to detect imports when\n",
    "    # they are inside a function / method\n",
    "    x = re.search(\"^import zeeguu_core.(\\S+)\", line) \n",
    "    x = re.search(\"^from zeeguu_core import (\\S+)\", line)\n",
    "    return x.group(1)"
   ]
  },
  {
   "cell_type": "code",
   "execution_count": 36,
   "metadata": {},
   "outputs": [],
   "source": [
    "def imports(file):\n",
    "    # extracts all the imported modules from a file\n",
    "    lines = [line for line in open(file)]\n",
    "    \n",
    "    all_imports = []\n",
    "    for line in lines:\n",
    "        try:\n",
    "            all_imports.append(extract_import_from_line(line))\n",
    "        except:\n",
    "            continue\n",
    "\n",
    "    return all_imports\n",
    "\n",
    "#assert \"sqlalchemy\" in imports(full_path('zeeguu_core/model/user.py'))"
   ]
  },
  {
   "cell_type": "code",
   "execution_count": 37,
   "metadata": {},
   "outputs": [],
   "source": [
    "def module_from_file_path(folder_prefix, full_path):\n",
    "    # extracting a module from a file name\n",
    "    # e.g. /Users/mircea/Zeeguu-Core/zeeguu_core/model/user.py -> zeeguu_core.model.user\n",
    "    \n",
    "    file_name = full_path[len(folder_prefix):]\n",
    "    file_name = file_name.replace(\"/\",\".\")\n",
    "    file_name = file_name.replace(\".py\",\"\")\n",
    "    return file_name\n",
    "\n",
    "def module(full_path):\n",
    "    return module_from_file_path(CODE_ROOT_FOLDER, full_path)\n",
    "\n",
    "assert 'zeeguu_core.model.user' == module(full_path('zeeguu_core/model/user.py'))"
   ]
  },
  {
   "cell_type": "code",
   "execution_count": 38,
   "metadata": {},
   "outputs": [],
   "source": [
    "def dependencies_graph():\n",
    "    files = Path(CODE_ROOT_FOLDER).rglob(\"*.py\")\n",
    "\n",
    "    G = nx.Graph()\n",
    "\n",
    "    for file in files:\n",
    "        m = module(str(file))\n",
    "        if m not in G.nodes:\n",
    "            G.add_node(m)\n",
    "\n",
    "        for each in imports(str(file)):\n",
    "            G.add_edge(m, each)\n",
    "\n",
    "    return G"
   ]
  },
  {
   "cell_type": "code",
   "execution_count": 39,
   "metadata": {},
   "outputs": [],
   "source": [
    "def draw_graph(G):\n",
    "    plt.figure(figsize=(10,6))\n",
    "    nx.draw(G)\n",
    "    plt.show()"
   ]
  },
  {
   "cell_type": "code",
   "execution_count": 40,
   "metadata": {},
   "outputs": [
    {
     "data": {
      "image/png": "[encoded data removed]",
      "text/plain": [
       "<Figure size 720x432 with 1 Axes>"
      ]
     },
     "metadata": {},
     "output_type": "display_data"
    }
   ],
   "source": [
    "G = dependencies_graph()\n",
    "draw_graph(G)"
   ]
  },
  {
   "cell_type": "markdown",
   "metadata": {},
   "source": [
    "## Basic Abstraction\n",
    "\n",
    "### Aggregating Dependencies\n"
   ]
  },
  {
   "cell_type": "code",
   "execution_count": 41,
   "metadata": {},
   "outputs": [],
   "source": [
    "def top_level_module(module_name, depth=1):\n",
    "    # extracts the parent of depth X \n",
    "    # e.g. top_level_module(zeeguu_core.model.util, 1) -> zeeguu_core\n",
    "    components = module_name.split(\".\")\n",
    "    return \".\".join(components[:depth])\n",
    "\n",
    "assert (top_level_module(\"zeeguu_core.model.util\") == \"zeeguu_core\")\n",
    "assert (top_level_module(\"zeeguu_core.model.util\", 2) == \"zeeguu_core.model\")"
   ]
  },
  {
   "cell_type": "code",
   "execution_count": 42,
   "metadata": {},
   "outputs": [],
   "source": [
    "def abstracted_to_top_level(G):\n",
    "    aG = nx.Graph()\n",
    "    for each in G.edges():\n",
    "        aG.add_edge(top_level_module(each[0]),\n",
    "                    top_level_module(each[1]))\n",
    "    return aG"
   ]
  },
  {
   "cell_type": "code",
   "execution_count": 43,
   "metadata": {},
   "outputs": [],
   "source": [
    "def draw_graph_with_labels(G, figsize=(20,20)):\n",
    "    plt.figure(figsize=figsize)\n",
    "    nx.draw(G,with_labels=True, font_size=40)\n",
    "    plt.show()"
   ]
  },
  {
   "cell_type": "code",
   "execution_count": 44,
   "metadata": {},
   "outputs": [
    {
     "data": {
      "image/png": "[encoded data removed]",
      "text/plain": [
       "<Figure size 1440x1296 with 1 Axes>"
      ]
     },
     "metadata": {},
     "output_type": "display_data"
    }
   ],
   "source": [
    "G = dependencies_graph()\n",
    "aG = abstracted_to_top_level(G)\n",
    "draw_graph_with_labels(aG, (20,18))"
   ]
  },
  {
   "cell_type": "markdown",
   "metadata": {},
   "source": [
    "## Distinguishing System Modules "
   ]
  },
  {
   "cell_type": "code",
   "execution_count": 45,
   "metadata": {},
   "outputs": [],
   "source": [
    "\n",
    "def system_module(m):\n",
    "    return m.startswith('zeeguu')"
   ]
  },
  {
   "cell_type": "code",
   "execution_count": 46,
   "metadata": {},
   "outputs": [],
   "source": [
    "def abstracted_to_top_level(G):\n",
    "    aG = nx.Graph()\n",
    "    for each in G.edges():\n",
    "        source = top_level_module(each[0])\n",
    "        destination = top_level_module(each[1])\n",
    "        if system_module(source) and system_module(destination):\n",
    "            aG.add_edge(source, destination)\n",
    "    return aG"
   ]
  },
  {
   "cell_type": "code",
   "execution_count": 47,
   "metadata": {},
   "outputs": [
    {
     "data": {
      "image/png": "[encoded data removed]",
      "text/plain": [
       "<Figure size 360x360 with 1 Axes>"
      ]
     },
     "metadata": {},
     "output_type": "display_data"
    }
   ],
   "source": [
    "G = dependencies_graph()\n",
    "aG = abstracted_to_top_level(G)\n",
    "draw_graph_with_labels(aG, (5,5))"
   ]
  },
  {
   "cell_type": "markdown",
   "metadata": {},
   "source": [
    "## But Dependencies Have Directions...\n",
    "\n"
   ]
  },
  {
   "cell_type": "code",
   "execution_count": 19,
   "metadata": {},
   "outputs": [],
   "source": [
    "def dependencies_graph():\n",
    "    files = Path(CODE_ROOT_FOLDER).rglob(\"*.py\")\n",
    "\n",
    "    G = nx.DiGraph()\n",
    "\n",
    "    for file in files:\n",
    "        m = module(str(file))\n",
    "        if m not in G.nodes:\n",
    "            G.add_node(m)\n",
    "\n",
    "        for each in imports(str(file)):\n",
    "            G.add_edge(m, each)\n",
    "\n",
    "    return G"
   ]
  },
  {
   "cell_type": "code",
   "execution_count": 20,
   "metadata": {},
   "outputs": [],
   "source": [
    "def abstracted_to_top_level(G):\n",
    "    aG = nx.DiGraph()\n",
    "    for each in G.edges():\n",
    "        source = top_level_module(each[0])\n",
    "        destination = top_level_module(each[1])\n",
    "        if system_module(source) and system_module(destination):\n",
    "            aG.add_edge(source, destination)\n",
    "    return aG"
   ]
  },
  {
   "cell_type": "code",
   "execution_count": 21,
   "metadata": {},
   "outputs": [
    {
     "data": {
      "image/png": "[encoded data removed]",
      "text/plain": [
       "<Figure size 216x216 with 1 Axes>"
      ]
     },
     "metadata": {},
     "output_type": "display_data"
    }
   ],
   "source": [
    "directed = dependencies_graph()\n",
    "directedAbstracted = abstracted_to_top_level(directed)\n",
    "draw_graph_with_labels(directedAbstracted, (3,3))"
   ]
  },
  {
   "cell_type": "markdown",
   "metadata": {},
   "source": [
    "### Oooops. Something unexpected ... \n",
    "Core **should not** depend on API\n"
   ]
  },
  {
   "cell_type": "markdown",
   "metadata": {},
   "source": [
    "## Mapping other modules that we know are part of the system... e.g. tools"
   ]
  },
  {
   "cell_type": "code",
   "execution_count": 22,
   "metadata": {},
   "outputs": [],
   "source": [
    "def system_module(m):\n",
    "    return m.startswith('zeeguu') or m=='tools' or m=='playground'"
   ]
  },
  {
   "cell_type": "code",
   "execution_count": 23,
   "metadata": {},
   "outputs": [
    {
     "data": {
      "image/png": "[encoded data removed]",
      "text/plain": [
       "<Figure size 432x288 with 1 Axes>"
      ]
     },
     "metadata": {},
     "output_type": "display_data"
    }
   ],
   "source": [
    "directed = dependencies_graph()\n",
    "directedAbstracted = abstracted_to_top_level(directed)\n",
    "draw_graph_with_labels(directedAbstracted, (6,4))"
   ]
  },
  {
   "cell_type": "markdown",
   "metadata": {},
   "source": [
    "# 2. Basic Presentation\n",
    "\n",
    "### Remember the Definition of Architecture\n",
    "- includes properties of modules\n"
   ]
  },
  {
   "cell_type": "code",
   "execution_count": 32,
   "metadata": {},
   "outputs": [
    {
     "data": {
      "text/plain": [
       "0"
      ]
     },
     "execution_count": 32,
     "metadata": {},
     "output_type": "execute_result"
    }
   ],
   "source": [
    "def module_size(m):\n",
    "    size = 0\n",
    "    files = Path(CODE_ROOT_FOLDER).rglob(\"*.py\")\n",
    "    for file in files:\n",
    "        module_name = module(str(file))\n",
    "        if module_name.startswith(m + '.'):\n",
    "            size += LOC(str(file))\n",
    "            \n",
    "    return size\n",
    "\n",
    "module_size(\"zeeguu_core\")\n",
    "module_size(\"zeeguu_core_test\")\n",
    "module_size(\"zeeguu_api\")"
   ]
  },
  {
   "cell_type": "code",
   "execution_count": 33,
   "metadata": {},
   "outputs": [],
   "source": [
    "def draw_graph_with_weights(G, weight_function, figsize=(10,10)):\n",
    "    \n",
    "    node_weights = [weight_function(each) for each in G.nodes]\n",
    "    \n",
    "    plt.figure(figsize=figsize)\n",
    "    nx.draw(G,\n",
    "            with_labels=True,\n",
    "            node_size=node_weights)\n",
    "    plt.show()"
   ]
  },
  {
   "cell_type": "code",
   "execution_count": 34,
   "metadata": {},
   "outputs": [
    {
     "data": {
      "image/png": "[encoded data removed]",
      "text/plain": [
       "<Figure size 432x288 with 1 Axes>"
      ]
     },
     "metadata": {},
     "output_type": "display_data"
    }
   ],
   "source": [
    "directed = dependencies_graph()\n",
    "directedAbstracted = abstracted_to_top_level(directed)\n",
    "draw_graph_with_weights(directedAbstracted, module_size, (6,4))"
   ]
  },
  {
   "cell_type": "markdown",
   "metadata": {},
   "source": [
    "## What did we learn? \n",
    "\n",
    "  - external dependencies (3rd party modules) can be filtered to remove noise\n",
    "  - directed dependencies provide extra information\n",
    "  - filtering system modules \n",
    "  - mapping metrics when visualizing increases the expressivity of the views\n",
    "  - module views allow the detection of misdirected dependencies\n",
    "\n",
    "\n"
   ]
  },
  {
   "cell_type": "markdown",
   "metadata": {},
   "source": [
    "## Importance of Dependencies\n",
    "\n",
    "\n",
    "To tell *the story of this view* we need nouns and verbs:\n",
    "  - nouns are the nodes\n",
    "  - verbs are the dependencies\n",
    "    - what is the meaning of each \n",
    "    - how \"strong\" is it\n"
   ]
  },
  {
   "cell_type": "markdown",
   "metadata": {},
   "source": [
    "## Discussion & Lessons Learned\n",
    "- Semi-automatic solutions are most of the times required\n",
    "  - full automation with clustering\n",
    "     - has been tried with \n",
    "       - coupling cohesion\n",
    "       - natural language analysis\n",
    "  - even in the case of clustering we still need human intervention\n",
    "  \n",
    "\n",
    "- The difference between this and a hand-drawn UML diagram? \n",
    "  - what we created today is always telling the truth\n",
    "  - but, maybe not *all* the truth? \n",
    "  - and not *always* the truth?\n",
    "    \n",
    "\n"
   ]
  },
  {
   "cell_type": "markdown",
   "metadata": {},
   "source": [
    "## For your projects\n",
    "- draw the architecture of the zeeguu_core itself!\n",
    "  - this is where most of the functionality seems to be found\n",
    "  - all the other modules depend on it\n",
    "  \n",
    "\n",
    "- can you explain the dependencies?\n",
    "\n",
    "\n",
    "- consider exporting the data into specialized graph visualization tools \n",
    "  - networkx [has support for this ](https://networkx.github.io/documentation/stable/reference/drawing.html)\n",
    "\n",
    "\n"
   ]
  }
 ],
 "metadata": {
  "anaconda-cloud": {},
  "kernelspec": {
   "display_name": "Python 3",
   "language": "python",
   "name": "python3"
  },
  "language_info": {
   "codemirror_mode": {
    "name": "ipython",
    "version": 3
   },
   "file_extension": ".py",
   "mimetype": "text/x-python",
   "name": "python",
   "nbconvert_exporter": "python",
   "pygments_lexer": "ipython3",
   "version": "3.7.6"
  }
 },
 "nbformat": 4,
 "nbformat_minor": 1
}
